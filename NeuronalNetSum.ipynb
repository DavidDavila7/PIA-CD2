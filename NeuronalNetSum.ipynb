{
  "nbformat": 4,
  "nbformat_minor": 0,
  "metadata": {
    "colab": {
      "provenance": [],
      "collapsed_sections": []
    },
    "kernelspec": {
      "name": "python3",
      "display_name": "Python 3"
    },
    "language_info": {
      "name": "python"
    }
  },
  "cells": [
    {
      "cell_type": "markdown",
      "source": [
        "Implementacion recuperada de:\n",
        "\n",
        "https://github.com/shivamduseja/Deep-Summarization/blob/master/LSTM_with_attention.ipynb"
      ],
      "metadata": {
        "id": "ex4PKxctbwTt"
      }
    },
    {
      "cell_type": "code",
      "execution_count": null,
      "metadata": {
        "colab": {
          "base_uri": "https://localhost:8080/"
        },
        "id": "Xza3ADYQaRFQ",
        "outputId": "b4380e87-7282-4ba7-f429-308ad3ff7e14"
      },
      "outputs": [
        {
          "output_type": "stream",
          "name": "stderr",
          "text": [
            "[nltk_data] Downloading package stopwords to /root/nltk_data...\n",
            "[nltk_data]   Unzipping corpora/stopwords.zip.\n"
          ]
        },
        {
          "output_type": "execute_result",
          "data": {
            "text/plain": [
              "True"
            ]
          },
          "metadata": {},
          "execution_count": 1
        }
      ],
      "source": [
        "import pandas as pd\n",
        "import numpy as np\n",
        "import os\n",
        "import re\n",
        "import warnings\n",
        "warnings.filterwarnings(\"ignore\")\n",
        "from sklearn import datasets, linear_model\n",
        "from sklearn.model_selection import train_test_split\n",
        "from matplotlib import pyplot as plt\n",
        "from bs4 import BeautifulSoup\n",
        "from nltk.corpus import stopwords\n",
        "\n",
        "import nltk\n",
        "nltk.download('stopwords')"
      ]
    },
    {
      "cell_type": "code",
      "source": [
        "import sqlite3\n",
        "dbfile = '/content/drive/MyDrive/Datos/NoticiasReforma2009.db'\n",
        "import pandas as pd\n",
        "import sqlite3\n",
        "import sqlalchemy \n",
        "\n",
        "try:\n",
        "    con = sqlite3.connect(dbfile)    \n",
        "except Exception as e:\n",
        "    print(e)\n",
        "\n",
        "#Now in order to read in pandas dataframe we need to know table name\n",
        "cursor = con.cursor()\n",
        "cursor.execute(\"SELECT name FROM sqlite_master WHERE type='table';\")\n",
        "print(f\"Table Name : {cursor.fetchall()}\")\n",
        "\n",
        "\n",
        "df = pd.read_sql_query('SELECT * FROM Noticias2009', con)\n",
        "con.close()\n"
      ],
      "metadata": {
        "colab": {
          "base_uri": "https://localhost:8080/"
        },
        "id": "H-4Ht48akoOg",
        "outputId": "8da03f7a-e3fd-4ce6-d3f0-6ee8041ff5ad"
      },
      "execution_count": null,
      "outputs": [
        {
          "output_type": "stream",
          "name": "stdout",
          "text": [
            "Table Name : [('Reforma2009',), ('Noticias2009',)]\n"
          ]
        }
      ]
    },
    {
      "cell_type": "code",
      "source": [
        "import nltk\n",
        "from nltk.corpus import stopwords\n",
        "from nltk.tokenize import word_tokenize\n",
        "nltk.download('punkt')"
      ],
      "metadata": {
        "colab": {
          "base_uri": "https://localhost:8080/"
        },
        "id": "U-9t3j9flEPG",
        "outputId": "22d523a9-b753-42cd-c92c-adce138f6408"
      },
      "execution_count": null,
      "outputs": [
        {
          "output_type": "stream",
          "name": "stderr",
          "text": [
            "[nltk_data] Downloading package punkt to /root/nltk_data...\n",
            "[nltk_data]   Unzipping tokenizers/punkt.zip.\n"
          ]
        },
        {
          "output_type": "execute_result",
          "data": {
            "text/plain": [
              "True"
            ]
          },
          "metadata": {},
          "execution_count": 3
        }
      ]
    },
    {
      "cell_type": "code",
      "source": [
        "stopSpanish=set(stopwords.words('spanish'))\n",
        "resumen=[]\n",
        "for i in range (61035):\n",
        "  text_tokens = word_tokenize(df['articulo'][i])\n",
        "  tokens_without_sw = [word for word in text_tokens if not word in stopSpanish]\n",
        "  tokens_without_sw = [word.lower() for word in tokens_without_sw if word.isalpha()]\n",
        "  resumen.append(' '.join(tokens_without_sw))"
      ],
      "metadata": {
        "id": "-eMMVjyrkvgk"
      },
      "execution_count": null,
      "outputs": []
    },
    {
      "cell_type": "code",
      "source": [
        "len(resumen)"
      ],
      "metadata": {
        "colab": {
          "base_uri": "https://localhost:8080/"
        },
        "id": "lj-_iT9PplHe",
        "outputId": "1871651d-c34d-4760-d618-ab0ff6edb1b0"
      },
      "execution_count": null,
      "outputs": [
        {
          "output_type": "execute_result",
          "data": {
            "text/plain": [
              "61035"
            ]
          },
          "metadata": {},
          "execution_count": 5
        }
      ]
    },
    {
      "cell_type": "code",
      "source": [
        "data={'Noticia': resumen, 'Resumen': df['resumen'][:]}"
      ],
      "metadata": {
        "id": "86NghnNUlxFU"
      },
      "execution_count": null,
      "outputs": []
    },
    {
      "cell_type": "code",
      "source": [
        "df1=pd.DataFrame(data)\n",
        "df1.head()"
      ],
      "metadata": {
        "colab": {
          "base_uri": "https://localhost:8080/",
          "height": 206
        },
        "id": "eINz8dnbmVNi",
        "outputId": "f1e047b0-419c-40ea-829f-a95d5a70f6c6"
      },
      "execution_count": null,
      "outputs": [
        {
          "output_type": "execute_result",
          "data": {
            "text/plain": [
              "                                             Noticia  \\\n",
              "0  fallan reproductores zune microsoft en año nue...   \n",
              "1  san cadillase pasan trabajadores mientras hoy ...   \n",
              "2  aleph cero materia antimateriaen principio luz...   \n",
              "3  gaceta del ángel yo macho quantecedentes día a...   \n",
              "4  circuito interiorunos tristes contentos los qu...   \n",
              "\n",
              "                                             Resumen  \n",
              "0  Los reproductores de música Zune dejan de func...  \n",
              "1  Se pasan de trabajadores\\n \\nMientras hoy uste...  \n",
              "2  En el Principio eran la luz, la materia y la a...  \n",
              "3  ANTECEDENTES: el día de ayer, mientras confecc...  \n",
              "4  Unos tristes, otros contentos\\n \\n \\nLOS QUE a...  "
            ],
            "text/html": [
              "\n",
              "  <div id=\"df-6bc11f3b-192d-4a0d-8c0f-6c0c6d9b1588\">\n",
              "    <div class=\"colab-df-container\">\n",
              "      <div>\n",
              "<style scoped>\n",
              "    .dataframe tbody tr th:only-of-type {\n",
              "        vertical-align: middle;\n",
              "    }\n",
              "\n",
              "    .dataframe tbody tr th {\n",
              "        vertical-align: top;\n",
              "    }\n",
              "\n",
              "    .dataframe thead th {\n",
              "        text-align: right;\n",
              "    }\n",
              "</style>\n",
              "<table border=\"1\" class=\"dataframe\">\n",
              "  <thead>\n",
              "    <tr style=\"text-align: right;\">\n",
              "      <th></th>\n",
              "      <th>Noticia</th>\n",
              "      <th>Resumen</th>\n",
              "    </tr>\n",
              "  </thead>\n",
              "  <tbody>\n",
              "    <tr>\n",
              "      <th>0</th>\n",
              "      <td>fallan reproductores zune microsoft en año nue...</td>\n",
              "      <td>Los reproductores de música Zune dejan de func...</td>\n",
              "    </tr>\n",
              "    <tr>\n",
              "      <th>1</th>\n",
              "      <td>san cadillase pasan trabajadores mientras hoy ...</td>\n",
              "      <td>Se pasan de trabajadores\\n \\nMientras hoy uste...</td>\n",
              "    </tr>\n",
              "    <tr>\n",
              "      <th>2</th>\n",
              "      <td>aleph cero materia antimateriaen principio luz...</td>\n",
              "      <td>En el Principio eran la luz, la materia y la a...</td>\n",
              "    </tr>\n",
              "    <tr>\n",
              "      <th>3</th>\n",
              "      <td>gaceta del ángel yo macho quantecedentes día a...</td>\n",
              "      <td>ANTECEDENTES: el día de ayer, mientras confecc...</td>\n",
              "    </tr>\n",
              "    <tr>\n",
              "      <th>4</th>\n",
              "      <td>circuito interiorunos tristes contentos los qu...</td>\n",
              "      <td>Unos tristes, otros contentos\\n \\n \\nLOS QUE a...</td>\n",
              "    </tr>\n",
              "  </tbody>\n",
              "</table>\n",
              "</div>\n",
              "      <button class=\"colab-df-convert\" onclick=\"convertToInteractive('df-6bc11f3b-192d-4a0d-8c0f-6c0c6d9b1588')\"\n",
              "              title=\"Convert this dataframe to an interactive table.\"\n",
              "              style=\"display:none;\">\n",
              "        \n",
              "  <svg xmlns=\"http://www.w3.org/2000/svg\" height=\"24px\"viewBox=\"0 0 24 24\"\n",
              "       width=\"24px\">\n",
              "    <path d=\"M0 0h24v24H0V0z\" fill=\"none\"/>\n",
              "    <path d=\"M18.56 5.44l.94 2.06.94-2.06 2.06-.94-2.06-.94-.94-2.06-.94 2.06-2.06.94zm-11 1L8.5 8.5l.94-2.06 2.06-.94-2.06-.94L8.5 2.5l-.94 2.06-2.06.94zm10 10l.94 2.06.94-2.06 2.06-.94-2.06-.94-.94-2.06-.94 2.06-2.06.94z\"/><path d=\"M17.41 7.96l-1.37-1.37c-.4-.4-.92-.59-1.43-.59-.52 0-1.04.2-1.43.59L10.3 9.45l-7.72 7.72c-.78.78-.78 2.05 0 2.83L4 21.41c.39.39.9.59 1.41.59.51 0 1.02-.2 1.41-.59l7.78-7.78 2.81-2.81c.8-.78.8-2.07 0-2.86zM5.41 20L4 18.59l7.72-7.72 1.47 1.35L5.41 20z\"/>\n",
              "  </svg>\n",
              "      </button>\n",
              "      \n",
              "  <style>\n",
              "    .colab-df-container {\n",
              "      display:flex;\n",
              "      flex-wrap:wrap;\n",
              "      gap: 12px;\n",
              "    }\n",
              "\n",
              "    .colab-df-convert {\n",
              "      background-color: #E8F0FE;\n",
              "      border: none;\n",
              "      border-radius: 50%;\n",
              "      cursor: pointer;\n",
              "      display: none;\n",
              "      fill: #1967D2;\n",
              "      height: 32px;\n",
              "      padding: 0 0 0 0;\n",
              "      width: 32px;\n",
              "    }\n",
              "\n",
              "    .colab-df-convert:hover {\n",
              "      background-color: #E2EBFA;\n",
              "      box-shadow: 0px 1px 2px rgba(60, 64, 67, 0.3), 0px 1px 3px 1px rgba(60, 64, 67, 0.15);\n",
              "      fill: #174EA6;\n",
              "    }\n",
              "\n",
              "    [theme=dark] .colab-df-convert {\n",
              "      background-color: #3B4455;\n",
              "      fill: #D2E3FC;\n",
              "    }\n",
              "\n",
              "    [theme=dark] .colab-df-convert:hover {\n",
              "      background-color: #434B5C;\n",
              "      box-shadow: 0px 1px 3px 1px rgba(0, 0, 0, 0.15);\n",
              "      filter: drop-shadow(0px 1px 2px rgba(0, 0, 0, 0.3));\n",
              "      fill: #FFFFFF;\n",
              "    }\n",
              "  </style>\n",
              "\n",
              "      <script>\n",
              "        const buttonEl =\n",
              "          document.querySelector('#df-6bc11f3b-192d-4a0d-8c0f-6c0c6d9b1588 button.colab-df-convert');\n",
              "        buttonEl.style.display =\n",
              "          google.colab.kernel.accessAllowed ? 'block' : 'none';\n",
              "\n",
              "        async function convertToInteractive(key) {\n",
              "          const element = document.querySelector('#df-6bc11f3b-192d-4a0d-8c0f-6c0c6d9b1588');\n",
              "          const dataTable =\n",
              "            await google.colab.kernel.invokeFunction('convertToInteractive',\n",
              "                                                     [key], {});\n",
              "          if (!dataTable) return;\n",
              "\n",
              "          const docLinkHtml = 'Like what you see? Visit the ' +\n",
              "            '<a target=\"_blank\" href=https://colab.research.google.com/notebooks/data_table.ipynb>data table notebook</a>'\n",
              "            + ' to learn more about interactive tables.';\n",
              "          element.innerHTML = '';\n",
              "          dataTable['output_type'] = 'display_data';\n",
              "          await google.colab.output.renderOutput(dataTable, element);\n",
              "          const docLink = document.createElement('div');\n",
              "          docLink.innerHTML = docLinkHtml;\n",
              "          element.appendChild(docLink);\n",
              "        }\n",
              "      </script>\n",
              "    </div>\n",
              "  </div>\n",
              "  "
            ]
          },
          "metadata": {},
          "execution_count": 7
        }
      ]
    },
    {
      "cell_type": "code",
      "source": [
        "df1['Noticia']\n",
        "cnt=0\n",
        "for i in df1['Noticia']:\n",
        "    if(len(i.split())<=250):\n",
        "        cnt=cnt+1\n",
        "print(cnt/len(df1['Noticia']))"
      ],
      "metadata": {
        "colab": {
          "base_uri": "https://localhost:8080/"
        },
        "id": "Jk2HH3oDnviZ",
        "outputId": "a523bd26-2d92-44a8-f6fc-228f99d87b75"
      },
      "execution_count": null,
      "outputs": [
        {
          "output_type": "stream",
          "name": "stdout",
          "text": [
            "0.8439256164495781\n"
          ]
        }
      ]
    },
    {
      "cell_type": "code",
      "source": [
        "Noticiasacotadas=[]\n",
        "Resumenes=[]"
      ],
      "metadata": {
        "id": "vvEmTm3OpEkE"
      },
      "execution_count": null,
      "outputs": []
    },
    {
      "cell_type": "markdown",
      "source": [
        "Veo que toman datos con una longitud maxima, no se si sea lo mejor para el corpus"
      ],
      "metadata": {
        "id": "iprgsszanbh6"
      }
    },
    {
      "cell_type": "code",
      "source": [
        "for i in range(len(df1['Noticia'])):\n",
        "  if(len(df1['Noticia'][i].split())<=250):\n",
        "    Noticiasacotadas.append(df1['Noticia'][i])\n",
        "    Resumenes.append(df1['Resumen'][i])"
      ],
      "metadata": {
        "id": "a9NgrYfyoeeA"
      },
      "execution_count": null,
      "outputs": []
    },
    {
      "cell_type": "code",
      "source": [
        "len(Resumenes)\n",
        "len(Noticiasacotadas)"
      ],
      "metadata": {
        "colab": {
          "base_uri": "https://localhost:8080/"
        },
        "id": "EouKTvTkpoEv",
        "outputId": "5e035e55-5dab-4215-cacd-ffc557be41de"
      },
      "execution_count": null,
      "outputs": [
        {
          "output_type": "execute_result",
          "data": {
            "text/plain": [
              "51509"
            ]
          },
          "metadata": {},
          "execution_count": 11
        }
      ]
    },
    {
      "cell_type": "code",
      "source": [
        "dfinal=pd.DataFrame({'Noticias': Noticiasacotadas, 'Resumenes': Resumenes})\n",
        "dfinal.head()"
      ],
      "metadata": {
        "colab": {
          "base_uri": "https://localhost:8080/",
          "height": 206
        },
        "id": "cstK1SNDqhGC",
        "outputId": "c1f3e8f7-edc5-4c77-95ea-66f4a42574e8"
      },
      "execution_count": null,
      "outputs": [
        {
          "output_type": "execute_result",
          "data": {
            "text/plain": [
              "                                            Noticias  \\\n",
              "0  fallan reproductores zune microsoft en año nue...   \n",
              "1  circuito interiorunos tristes contentos los qu...   \n",
              "2  la capillamuy movido naucalpan inicio año meno...   \n",
              "3  plaza públicapor vacaciones columna granados c...   \n",
              "4  miradorplegaria un pedazo tierra posar planta ...   \n",
              "\n",
              "                                           Resumenes  \n",
              "0  Los reproductores de música Zune dejan de func...  \n",
              "1  Unos tristes, otros contentos\\n \\n \\nLOS QUE a...  \n",
              "2  MUY MOVIDO estará en Naucalpan el inicio de añ...  \n",
              "3  Por vacaciones, la columna de Granados Chapa v...  \n",
              "4  Plegaria\\nUn pedazo de tierra para posar mi pl...  "
            ],
            "text/html": [
              "\n",
              "  <div id=\"df-865cc353-547c-43d9-8c8d-552ebc89497a\">\n",
              "    <div class=\"colab-df-container\">\n",
              "      <div>\n",
              "<style scoped>\n",
              "    .dataframe tbody tr th:only-of-type {\n",
              "        vertical-align: middle;\n",
              "    }\n",
              "\n",
              "    .dataframe tbody tr th {\n",
              "        vertical-align: top;\n",
              "    }\n",
              "\n",
              "    .dataframe thead th {\n",
              "        text-align: right;\n",
              "    }\n",
              "</style>\n",
              "<table border=\"1\" class=\"dataframe\">\n",
              "  <thead>\n",
              "    <tr style=\"text-align: right;\">\n",
              "      <th></th>\n",
              "      <th>Noticias</th>\n",
              "      <th>Resumenes</th>\n",
              "    </tr>\n",
              "  </thead>\n",
              "  <tbody>\n",
              "    <tr>\n",
              "      <th>0</th>\n",
              "      <td>fallan reproductores zune microsoft en año nue...</td>\n",
              "      <td>Los reproductores de música Zune dejan de func...</td>\n",
              "    </tr>\n",
              "    <tr>\n",
              "      <th>1</th>\n",
              "      <td>circuito interiorunos tristes contentos los qu...</td>\n",
              "      <td>Unos tristes, otros contentos\\n \\n \\nLOS QUE a...</td>\n",
              "    </tr>\n",
              "    <tr>\n",
              "      <th>2</th>\n",
              "      <td>la capillamuy movido naucalpan inicio año meno...</td>\n",
              "      <td>MUY MOVIDO estará en Naucalpan el inicio de añ...</td>\n",
              "    </tr>\n",
              "    <tr>\n",
              "      <th>3</th>\n",
              "      <td>plaza públicapor vacaciones columna granados c...</td>\n",
              "      <td>Por vacaciones, la columna de Granados Chapa v...</td>\n",
              "    </tr>\n",
              "    <tr>\n",
              "      <th>4</th>\n",
              "      <td>miradorplegaria un pedazo tierra posar planta ...</td>\n",
              "      <td>Plegaria\\nUn pedazo de tierra para posar mi pl...</td>\n",
              "    </tr>\n",
              "  </tbody>\n",
              "</table>\n",
              "</div>\n",
              "      <button class=\"colab-df-convert\" onclick=\"convertToInteractive('df-865cc353-547c-43d9-8c8d-552ebc89497a')\"\n",
              "              title=\"Convert this dataframe to an interactive table.\"\n",
              "              style=\"display:none;\">\n",
              "        \n",
              "  <svg xmlns=\"http://www.w3.org/2000/svg\" height=\"24px\"viewBox=\"0 0 24 24\"\n",
              "       width=\"24px\">\n",
              "    <path d=\"M0 0h24v24H0V0z\" fill=\"none\"/>\n",
              "    <path d=\"M18.56 5.44l.94 2.06.94-2.06 2.06-.94-2.06-.94-.94-2.06-.94 2.06-2.06.94zm-11 1L8.5 8.5l.94-2.06 2.06-.94-2.06-.94L8.5 2.5l-.94 2.06-2.06.94zm10 10l.94 2.06.94-2.06 2.06-.94-2.06-.94-.94-2.06-.94 2.06-2.06.94z\"/><path d=\"M17.41 7.96l-1.37-1.37c-.4-.4-.92-.59-1.43-.59-.52 0-1.04.2-1.43.59L10.3 9.45l-7.72 7.72c-.78.78-.78 2.05 0 2.83L4 21.41c.39.39.9.59 1.41.59.51 0 1.02-.2 1.41-.59l7.78-7.78 2.81-2.81c.8-.78.8-2.07 0-2.86zM5.41 20L4 18.59l7.72-7.72 1.47 1.35L5.41 20z\"/>\n",
              "  </svg>\n",
              "      </button>\n",
              "      \n",
              "  <style>\n",
              "    .colab-df-container {\n",
              "      display:flex;\n",
              "      flex-wrap:wrap;\n",
              "      gap: 12px;\n",
              "    }\n",
              "\n",
              "    .colab-df-convert {\n",
              "      background-color: #E8F0FE;\n",
              "      border: none;\n",
              "      border-radius: 50%;\n",
              "      cursor: pointer;\n",
              "      display: none;\n",
              "      fill: #1967D2;\n",
              "      height: 32px;\n",
              "      padding: 0 0 0 0;\n",
              "      width: 32px;\n",
              "    }\n",
              "\n",
              "    .colab-df-convert:hover {\n",
              "      background-color: #E2EBFA;\n",
              "      box-shadow: 0px 1px 2px rgba(60, 64, 67, 0.3), 0px 1px 3px 1px rgba(60, 64, 67, 0.15);\n",
              "      fill: #174EA6;\n",
              "    }\n",
              "\n",
              "    [theme=dark] .colab-df-convert {\n",
              "      background-color: #3B4455;\n",
              "      fill: #D2E3FC;\n",
              "    }\n",
              "\n",
              "    [theme=dark] .colab-df-convert:hover {\n",
              "      background-color: #434B5C;\n",
              "      box-shadow: 0px 1px 3px 1px rgba(0, 0, 0, 0.15);\n",
              "      filter: drop-shadow(0px 1px 2px rgba(0, 0, 0, 0.3));\n",
              "      fill: #FFFFFF;\n",
              "    }\n",
              "  </style>\n",
              "\n",
              "      <script>\n",
              "        const buttonEl =\n",
              "          document.querySelector('#df-865cc353-547c-43d9-8c8d-552ebc89497a button.colab-df-convert');\n",
              "        buttonEl.style.display =\n",
              "          google.colab.kernel.accessAllowed ? 'block' : 'none';\n",
              "\n",
              "        async function convertToInteractive(key) {\n",
              "          const element = document.querySelector('#df-865cc353-547c-43d9-8c8d-552ebc89497a');\n",
              "          const dataTable =\n",
              "            await google.colab.kernel.invokeFunction('convertToInteractive',\n",
              "                                                     [key], {});\n",
              "          if (!dataTable) return;\n",
              "\n",
              "          const docLinkHtml = 'Like what you see? Visit the ' +\n",
              "            '<a target=\"_blank\" href=https://colab.research.google.com/notebooks/data_table.ipynb>data table notebook</a>'\n",
              "            + ' to learn more about interactive tables.';\n",
              "          element.innerHTML = '';\n",
              "          dataTable['output_type'] = 'display_data';\n",
              "          await google.colab.output.renderOutput(dataTable, element);\n",
              "          const docLink = document.createElement('div');\n",
              "          docLink.innerHTML = docLinkHtml;\n",
              "          element.appendChild(docLink);\n",
              "        }\n",
              "      </script>\n",
              "    </div>\n",
              "  </div>\n",
              "  "
            ]
          },
          "metadata": {},
          "execution_count": 12
        }
      ]
    },
    {
      "cell_type": "code",
      "source": [
        "#Generamos datos de pureba y entrenamiento\n",
        "from sklearn.model_selection import train_test_split\n",
        "x_train,x_test,y_train,y_test=train_test_split(dfinal['Noticias'],dfinal['Resumenes'],test_size=0.1,random_state=42,shuffle=True) "
      ],
      "metadata": {
        "id": "P3qyXVBzqfLV"
      },
      "execution_count": null,
      "outputs": []
    },
    {
      "cell_type": "markdown",
      "source": [
        "#Creamos un vocabulario/tokens"
      ],
      "metadata": {
        "id": "UynRuXv7sr07"
      }
    },
    {
      "cell_type": "code",
      "source": [
        "SOS_token = 0\n",
        "EOS_token = 1\n",
        "\n",
        "class Lang:\n",
        "    def __init__(self, name):\n",
        "        self.name = name\n",
        "        self.word2index = {}\n",
        "        self.word2count = {}\n",
        "        self.index2word = {0: \"SOS\", 1: \"EOS\"}\n",
        "        self.n_words = 2  # Count SOS and EOS\n",
        "\n",
        "    def addSentence(self, sentence):\n",
        "        for word in sentence.split(' '):\n",
        "            self.addWord(word)\n",
        "\n",
        "    def addWord(self, word):\n",
        "        if word not in self.word2index:\n",
        "            self.word2index[word] = self.n_words\n",
        "            self.word2count[word] = 1\n",
        "            self.index2word[self.n_words] = word\n",
        "            self.n_words += 1\n",
        "        else:\n",
        "            self.word2count[word] += 1"
      ],
      "metadata": {
        "id": "ctOXt59Wsqdw"
      },
      "execution_count": null,
      "outputs": []
    },
    {
      "cell_type": "markdown",
      "source": [],
      "metadata": {
        "id": "1mk7HFoUs7KT"
      }
    },
    {
      "cell_type": "code",
      "source": [
        "def readLangs(text, summary, reverse=False):\n",
        "    print(\"Reading lines...\")\n",
        "    \n",
        "    # Split every line into pairs and normalize\n",
        "    text=np.array(text)\n",
        "    summary=np.array(summary)\n",
        "    pairs = [[text[i],summary[i]] for i in range(len(text))]\n",
        "\n",
        "    # Reverse pairs, make Lang instances\n",
        "    if reverse:\n",
        "        pairs = [list(reversed(p)) for p in pairs]\n",
        "        input_lang = Lang(summary)\n",
        "        output_lang = Lang(text)\n",
        "    else:\n",
        "        input_lang = Lang(text)\n",
        "        output_lang = Lang(summary)\n",
        "\n",
        "    return input_lang, output_lang, pairs"
      ],
      "metadata": {
        "id": "70xXdg_6tlc_"
      },
      "execution_count": null,
      "outputs": []
    },
    {
      "cell_type": "markdown",
      "source": [],
      "metadata": {
        "id": "maY8Y3N0u5JP"
      }
    },
    {
      "cell_type": "code",
      "source": [
        "def prepareData(lang1, lang2, reverse=False):\n",
        "    input_lang, output_lang, pairs = readLangs(lang1, lang2, reverse)\n",
        "    print(\"Read %s sentence pairs\" % len(pairs))\n",
        "    print(\"Counting words...\")\n",
        "    for pair in pairs:\n",
        "        input_lang.addSentence(pair[0])\n",
        "        output_lang.addSentence(pair[1])\n",
        "    print(\"Counted words:\")\n",
        "    print(input_lang.name,\"--------------------\", input_lang.n_words)\n",
        "    #print(output_lang.name, output_lang.n_words)\n",
        "    return input_lang, output_lang, pairs"
      ],
      "metadata": {
        "id": "DOTraNTyu28u"
      },
      "execution_count": null,
      "outputs": []
    },
    {
      "cell_type": "code",
      "source": [
        "def prepareData(lang1, lang2, reverse=False):\n",
        "    input_lang, output_lang, pairs = readLangs(lang1, lang2, reverse)\n",
        "    print(\"Read %s sentence pairs\" % len(pairs))\n",
        "    print(\"Counting words...\")\n",
        "    for pair in pairs:\n",
        "        input_lang.addSentence(pair[0])\n",
        "        output_lang.addSentence(pair[1])\n",
        "    print(\"Counted words:\")\n",
        "    print(input_lang.name,\"--------------------\", input_lang.n_words)\n",
        "    #print(output_lang.name, output_lang.n_words)\n",
        "    return input_lang, output_lang, pairs"
      ],
      "metadata": {
        "id": "H2PaIgnqxrwn"
      },
      "execution_count": null,
      "outputs": []
    },
    {
      "cell_type": "code",
      "source": [
        "input_lang, output_lang, pairs = prepareData(x_train, y_train , False)"
      ],
      "metadata": {
        "colab": {
          "base_uri": "https://localhost:8080/"
        },
        "id": "BYqqIvBZxuub",
        "outputId": "4a0d03b7-9cc5-4658-eed8-cca79ab6c12e"
      },
      "execution_count": null,
      "outputs": [
        {
          "output_type": "stream",
          "name": "stdout",
          "text": [
            "Reading lines...\n",
            "Read 46358 sentence pairs\n",
            "Counting words...\n",
            "Counted words:\n",
            "['confía hugo remontadael técnico almería hugo sánchez dijo martes conjunto rojiblanco calidad ilusión conseguir remontada mallorca rival medirá miércoles vuelta octavos final copa perdió duelo ida apenas segundo partido mexicano frente sánchez confía jugar estadio mediterráneo haber anotado gol afuera casa permite pensar poder darle vuelta marcador cuando dicen eliminatoria difícil quito jugamos casa circunstancia ayudarnos además pesar encajar tres tantos mallorca conseguimos importancia todos muchas ganas intentarlo afirmó sánchez superar eliminatoria difícil traen resultado positivo nosotros hacer dos goles dejar portería cero calidad ilusión podemos conseguirlo juego almería sánchez reconoció aún restan muchas cosas mejorar ejemplo acciones balón parado aspecto ofensivo defensivo así tener mayor intensidad pero depende físico aún idóneo sostuvo'\n",
            " 'derraman parejas miel sundanceel amor cine muchas veces van mano quedó comprobado ayer festival cine esposos pareja amigos dejaron ver diferentes premieres fiestas particulares efectuaron parte evento cinematográfico y todas derramaron moore james tupper parejas ashton kutcher anne heche respectivamente apoyando dos últimos presentación cinta spread ambos redford fundador festival aprovechó felicitar bromear rato actores parejas heche demostró sigue enamorada ahora esposo tupper coprotagonista además serie men in trees pues tiempo actitud festejos fiesta diseñador kenneth cole vio éste amiga denise richards conviviendo parejas esposos caso kevin bacon kyra rumbo captada mariah carey lado nick llegada park city cantante sido asediadas fanáticos momento vio accesible repartiendo autógrafos sonrisas'\n",
            " 'clausuran guardería ciudad juárezpor carecer medidas seguridad extinguidores salidas emergencia mañana clausurada guardería instituto mexicano seguro social imss informó bernardo escudero ortega director ecología protección civil autoridades encargadas supervisar seguridad encontraron irregularidades instalación falta extinguidores salidas emergencia delimitadas dijo funcionario municipal hace tres semanas municipio lanzó aviso conminando tipo instituciones corrigieran cualquier tipo anomalías presentaran esperemos cierre primera guardería resto sepa advertencia va serio aseguró bernardo padres familia cuyos hijos utilizan servicio guardería manifestaron inconformidad notificados cierre regresarse hijos brazos esto viene alterar completo día quién dejar hijo menos puedo llevar trabajo pedir permiso faltar trabajo día hoy expresó madre familia pidió omitir nombre'\n",
            " ...\n",
            " 'protestan orvañanos pgjlos ex candidatos prd pri jefatura delegacional cuajimalpa adrián ruvalcaba jaime ochoa respectivamente acudieron jueves procuraduría capitalina exigir dé solución denuncias penales presentaron delegado electo pan carlos orvañanos seguidores ochoa pretendían recibiera directamente procurador miguel ángel mancera plantearle inquietudes toda vez fecha sido atendidas denuncias presentado dicha recordó presentado cinco denuncias fiscalía especial delitos electorales orvañanos entrega despensas uso recursos federales inauguración obras así lesiones provocadas presuntamente simpatizantes panista también venimos solicitar sucedido denuncias lesiones provocaron vecinos cuajimalpa impulsaban candidaturas pri verde ecologista prd ocasionado grupo choque contrató acción nacional también exigiendo aclare pasó denuncias privación ilegal libertad compañeros cuales presentaron jornada electoral actuado si identificadas personas imputaciones directas procuraduría momento realizado alguna acción expuso ex candidatos acompañados secretario general prd capitalino manuel oropeza ex delegado cuajimalpa ignacio ruiz medio centenar simpatizantes protestan afuera búnker pgjdf colonia doctores'\n",
            " 'enfrenta swayze cáncer nueva seriepatrick swayze estrenará serie policial the beast cadena a e tiempo sigue lucha cáncer páncreas actor confesó batalla cáncer páncreas hecho pasar infierno impulsa seguir adelante carrera actoral nunca sido tipo persona escapa reto dijo swayze barbara walters cadena abc entrevista exclusiva sí miedo sí enfadado sí pregunto the beast estrena próxima semana requirió extenuantes jornadas laborales horas diarias mientras actor sometía quimioterapia fines rechazó tomar analgésicos quitado filo cinco meses sólo faltó día medio trabajo pueden seguros pasando infierno lamentó swayze sólo pasado comienzo mayoría pacientes cáncer pancreático etapa avanzada pocas probabilidades supervivencia swayze verán capaz exclamó especial barbara walters patrick swayze la verdad transmitirá miércoles horas horario local'\n",
            " 'sepultan richardson nueva yorkla actriz británica natasha richardson murió miércoles tras sufrir accidente esquí sepultada domingo cementerio norte nueva york indicó portavoz vocero iglesia episcopal san pedro lithgow cerca localidad millbrook localizada kilómetros norte nueva york indicó ceremonia funeraria reservada allegados actriz lugar domingo templo entierro cementerio casado millbrook actor liam neeson el matrimonio dos hijos varones michael años daniel criados mismo memoria actriz previamente homenajeada viernes sede sociedad histórica irlandesa norteamericana actriz murió tras sufrir lesión cabeza accidente esquí lunes estación ubicada kilómetros norte montreal hija famosa actriz británica vanessa redgrave'] -------------------- 161955\n"
          ]
        }
      ]
    },
    {
      "cell_type": "code",
      "source": [
        "pairs[0]"
      ],
      "metadata": {
        "colab": {
          "base_uri": "https://localhost:8080/"
        },
        "id": "quSICPK9x4NQ",
        "outputId": "10d1d118-2a71-4d2d-bd82-efd12e8eac44"
      },
      "execution_count": null,
      "outputs": [
        {
          "output_type": "execute_result",
          "data": {
            "text/plain": [
              "['confía hugo remontadael técnico almería hugo sánchez dijo martes conjunto rojiblanco calidad ilusión conseguir remontada mallorca rival medirá miércoles vuelta octavos final copa perdió duelo ida apenas segundo partido mexicano frente sánchez confía jugar estadio mediterráneo haber anotado gol afuera casa permite pensar poder darle vuelta marcador cuando dicen eliminatoria difícil quito jugamos casa circunstancia ayudarnos además pesar encajar tres tantos mallorca conseguimos importancia todos muchas ganas intentarlo afirmó sánchez superar eliminatoria difícil traen resultado positivo nosotros hacer dos goles dejar portería cero calidad ilusión podemos conseguirlo juego almería sánchez reconoció aún restan muchas cosas mejorar ejemplo acciones balón parado aspecto ofensivo defensivo así tener mayor intensidad pero depende físico aún idóneo sostuvo',\n",
              " 'El DT del Almería, Hugo Sánchez, dijo que su equipo tiene la capacidad para remontar en el juego de vuelta de la Copa del Rey ante Mallorca.']"
            ]
          },
          "metadata": {},
          "execution_count": 19
        }
      ]
    },
    {
      "cell_type": "code",
      "source": [
        "SOS_token = 0\n",
        "EOS_token = 1"
      ],
      "metadata": {
        "id": "vczfEl5JyJTe"
      },
      "execution_count": null,
      "outputs": []
    },
    {
      "cell_type": "code",
      "source": [
        "def indexesFromSentence(lang, sentence):\n",
        "    return [lang.word2index[word] for word in sentence.split(' ')]\n",
        "\n",
        "def tensorFromSentence(lang, sentence):\n",
        "    indexes = indexesFromSentence(lang, sentence)\n",
        "    indexes.append(EOS_token)\n",
        "    return torch.tensor(indexes, dtype=torch.long, device=device).view(-1, 1)\n",
        "\n",
        "def tensorsFromPair(pair):\n",
        "    input_tensor = tensorFromSentence(input_lang, pair[0])\n",
        "    target_tensor = tensorFromSentence(output_lang, pair[1])\n",
        "    return (input_tensor, target_tensor)"
      ],
      "metadata": {
        "id": "e77mIpavyHSx"
      },
      "execution_count": null,
      "outputs": []
    },
    {
      "cell_type": "code",
      "source": [
        "from __future__ import unicode_literals, print_function, division\n",
        "from io import open\n",
        "import unicodedata\n",
        "import string\n",
        "import re\n",
        "import random\n",
        "\n",
        "import torch\n",
        "import torch.nn as nn\n",
        "from torch import optim\n",
        "import torch.nn.functional as F\n",
        "\n",
        "\n"
      ],
      "metadata": {
        "id": "-U5bwNTUysqi"
      },
      "execution_count": null,
      "outputs": []
    },
    {
      "cell_type": "code",
      "source": [
        "device = torch.device(\"cuda\" if torch.cuda.is_available() else \"cpu\")\n",
        "device"
      ],
      "metadata": {
        "colab": {
          "base_uri": "https://localhost:8080/"
        },
        "id": "O0I0ptw9yxKn",
        "outputId": "8cad5cb5-5e46-4a03-980b-8e740c17cac4"
      },
      "execution_count": null,
      "outputs": [
        {
          "output_type": "execute_result",
          "data": {
            "text/plain": [
              "device(type='cuda')"
            ]
          },
          "metadata": {},
          "execution_count": 23
        }
      ]
    },
    {
      "cell_type": "markdown",
      "source": [
        "Encoder: Lo veremos apenas"
      ],
      "metadata": {
        "id": "27x64DD1zZMm"
      }
    },
    {
      "cell_type": "code",
      "source": [
        "class EncoderRNN(nn.Module):\n",
        "    def __init__(self, input_size, hidden_size):\n",
        "        super(EncoderRNN, self).__init__()\n",
        "        self.hidden_size = hidden_size\n",
        "\n",
        "        self.embedding = nn.Embedding(input_size, hidden_size)\n",
        "        self.LSTM = nn.LSTM(hidden_size, hidden_size)\n",
        "\n",
        "    def forward(self, input, hidden):\n",
        "        embedded = self.embedding(input).view(1, 1, -1)\n",
        "        output = embedded\n",
        "        output, hidden = self.LSTM(output, hidden)\n",
        "        return output, hidden\n",
        "\n",
        "    def initHidden(self):\n",
        "        return (torch.zeros(1, 1, self.hidden_size, device=device),torch.zeros(1, 1, self.hidden_size, device=device)) "
      ],
      "metadata": {
        "id": "cDPixFrizSPk"
      },
      "execution_count": null,
      "outputs": []
    },
    {
      "cell_type": "code",
      "source": [
        "class DecoderRNN(nn.Module):\n",
        "    def __init__(self, hidden_size, output_size):\n",
        "        super(DecoderRNN, self).__init__()\n",
        "        self.hidden_size = hidden_size\n",
        "\n",
        "        self.embedding = nn.Embedding(output_size, hidden_size)\n",
        "        self.LSTM = nn.LSTM(hidden_size, hidden_size)\n",
        "        self.out = nn.Linear(hidden_size, output_size)\n",
        "        self.softmax = nn.LogSoftmax(dim=2)\n",
        "\n",
        "    def forward(self, input, hidden):\n",
        "        output = self.embedding(input).view(1, 1, -1)\n",
        "        output = F.relu(output)\n",
        "        output, hidden = self.LSTM(output, hidden)\n",
        "        output = self.softmax(self.out(output[0]))\n",
        "        return output, hidden\n",
        "\n",
        "    def initHidden(self):\n",
        "        return torch.zeros(1, 1, self.hidden_size, device=device)"
      ],
      "metadata": {
        "id": "snJ7XwNszgjo"
      },
      "execution_count": null,
      "outputs": []
    },
    {
      "cell_type": "code",
      "source": [
        "MAX_LENGTH=250"
      ],
      "metadata": {
        "id": "0ch1w54hzkow"
      },
      "execution_count": null,
      "outputs": []
    },
    {
      "cell_type": "code",
      "source": [
        "class AttnDecoderRNN(nn.Module):\n",
        "    def __init__(self, hidden_size, output_size, dropout_p=0.1, max_length=MAX_LENGTH):\n",
        "        super(AttnDecoderRNN, self).__init__()\n",
        "        self.hidden_size = hidden_size\n",
        "        self.output_size = output_size\n",
        "        self.dropout_p = dropout_p\n",
        "        self.max_length = max_length\n",
        "\n",
        "        self.embedding = nn.Embedding(self.output_size, self.hidden_size)\n",
        "        self.attn = nn.Linear(self.hidden_size*2 , self.max_length)\n",
        "        self.attn_combine = nn.Linear(self.hidden_size*2 , self.hidden_size)\n",
        "        self.dropout = nn.Dropout(self.dropout_p)\n",
        "        self.LSTM = nn.LSTM(self.hidden_size, self.hidden_size)\n",
        "        self.out = nn.Linear(self.hidden_size, self.output_size)\n",
        "\n",
        "        #print('Decoder --- atndecoder')\n",
        "\n",
        "    def forward(self, input, hidden, encoder_outputs):\n",
        "        #print(\"inside forward decoder\")\n",
        "        embedded = self.embedding(input).view(1, 1, -1)\n",
        "        embedded = self.dropout(embedded)\n",
        "\n",
        "        #print(\"embedded size\", embedded.size())\n",
        "        #print(embedded[0].size()) #1,300\n",
        "        #print(hidden[0].size()) # 1, 1, 300\n",
        "        #print(\"diff or not\")\n",
        "\n",
        "        #temp = torch.cat((embedded[0], hidden[0]), 1)\n",
        "        \n",
        "        #print(temp)\n",
        "        #print(temp.size())\n",
        "\n",
        "        attn_weights = F.softmax(self.attn(torch.cat((embedded[0], hidden[0][0]), 1)), dim=1)\n",
        "        #print(\"after getting attn weights softmax\")\n",
        "        #print(attn_weights.size())\n",
        "        attn_applied = torch.bmm(attn_weights.unsqueeze(0),\n",
        "                                 encoder_outputs.unsqueeze(0))\n",
        "\n",
        "        output = torch.cat((embedded[0], attn_applied[0]), 1)\n",
        "        output = self.attn_combine(output).unsqueeze(0)\n",
        "\n",
        "        output = F.relu(output)\n",
        "        output, hidden = self.LSTM(output, hidden)\n",
        "\n",
        "        output = F.log_softmax(self.out(output[0]), dim=1)\n",
        "        return output, hidden, attn_weights\n",
        "\n",
        "    def initHidden(self):\n",
        "        return torch.zeros(1, 1, self.hidden_size, device=device)"
      ],
      "metadata": {
        "id": "2Rz66FlgzqZw"
      },
      "execution_count": null,
      "outputs": []
    },
    {
      "cell_type": "code",
      "source": [
        "#teacher_forcing_ratio = 0.5\n",
        "def train(input_tensor, target_tensor, encoder, decoder, encoder_optimizer, decoder_optimizer, criterion, max_length=MAX_LENGTH):\n",
        "    encoder_hidden = encoder.initHidden()\n",
        "\n",
        "    encoder_optimizer.zero_grad()\n",
        "    decoder_optimizer.zero_grad()\n",
        "\n",
        "    input_length = input_tensor.size(0)\n",
        "    target_length = target_tensor.size(0)\n",
        "\n",
        "    encoder_outputs = torch.zeros(max_length, encoder.hidden_size, device=device)\n",
        "\n",
        "    loss = 0\n",
        "    #print('bbbbbbb-->>> input length', input_length)\n",
        "\n",
        "    for ei in range(input_length):\n",
        "        encoder_output, encoder_hidden = encoder(input_tensor[ei], encoder_hidden)\n",
        "        #print(\"priting before error\")\n",
        "        #print(encoder_output.size())\n",
        "        #print(encoder_outputs.size())\n",
        "        temp = encoder_output[0, 0]\n",
        "        #print(temp)\n",
        "        encoder_outputs[ei] = temp\n",
        "\n",
        "    decoder_input = torch.tensor([[SOS_token]], device=device)\n",
        "\n",
        "    decoder_hidden = encoder_hidden\n",
        "\n",
        "    #use_teacher_forcing = True if random.random() < teacher_forcing_ratio else False\n",
        "    #Without teacher forcing: use its own predictions as the next input\n",
        "\n",
        "    #print('aaaaa-->>>')\n",
        "\n",
        "    for di in range(target_length):\n",
        "      decoder_output, decoder_hidden, decoder_attention = decoder(\n",
        "      decoder_input, decoder_hidden, encoder_outputs)\n",
        "\n",
        "\n",
        "      topv, topi = decoder_output.topk(1)\n",
        "      \n",
        "      decoder_input = topi.squeeze().detach()  # detach from history as input\n",
        "      \n",
        "      loss += criterion(decoder_output, target_tensor[di])\n",
        "      \n",
        "      if decoder_input.item() == EOS_token:\n",
        "             break\n",
        "\n",
        "    loss.backward()\n",
        "\n",
        "    encoder_optimizer.step()\n",
        "    decoder_optimizer.step()\n",
        "\n",
        "    return loss.item() / target_length"
      ],
      "metadata": {
        "id": "xXztApzAzsR0"
      },
      "execution_count": null,
      "outputs": []
    },
    {
      "cell_type": "code",
      "source": [
        "import time\n",
        "import math\n",
        "\n",
        "\n",
        "def asMinutes(s):\n",
        "    m = math.floor(s / 60)\n",
        "    s -= m * 60\n",
        "    return '%dm %ds' % (m, s)\n",
        "\n",
        "\n",
        "def timeSince(since, percent):\n",
        "    now = time.time()\n",
        "    s = now - since\n",
        "    es = s / (percent)\n",
        "    rs = es - s\n",
        "    return '%s (- %s)' % (asMinutes(s), asMinutes(rs))"
      ],
      "metadata": {
        "id": "AhThtQEQz_1q"
      },
      "execution_count": null,
      "outputs": []
    },
    {
      "cell_type": "code",
      "source": [
        "import matplotlib.pyplot as plt\n",
        "plt.switch_backend('agg')\n",
        "import matplotlib.ticker as ticker\n",
        "import numpy as np\n",
        "\n",
        "\n",
        "def showPlot(points):\n",
        "    plt.figure()\n",
        "    fig, ax = plt.subplots()\n",
        "    # this locator puts ticks at regular intervals\n",
        "    loc = ticker.MultipleLocator(base=0.2)\n",
        "    ax.yaxis.set_major_locator(loc)\n",
        "    plt.plot(points)"
      ],
      "metadata": {
        "id": "U3i3FgEv0BgZ"
      },
      "execution_count": null,
      "outputs": []
    },
    {
      "cell_type": "code",
      "source": [
        "def trainIters(encoder, decoder, n_iters, print_every=1000, plot_every=100, learning_rate=0.01):\n",
        "    print(\"Training....\")\n",
        "    start = time.time()\n",
        "    plot_losses = []\n",
        "    print_loss_total = 0  # Reset every print_every\n",
        "    plot_loss_total = 0  # Reset every plot_every\n",
        "\n",
        "    encoder_optimizer = optim.SGD(encoder.parameters(), lr=learning_rate)\n",
        "    decoder_optimizer = optim.SGD(decoder.parameters(), lr=learning_rate)\n",
        "    training_pairs = [tensorsFromPair(random.choice(pairs))\n",
        "                      for i in range(n_iters)]\n",
        "    criterion = nn.NLLLoss()\n",
        "\n",
        "    for iter in range(1, n_iters + 1):\n",
        "        if iter% 1000 == 0:\n",
        "            print(iter,\"/\",n_iters + 1)\n",
        "        training_pair = training_pairs[iter - 1]\n",
        "        input_tensor = training_pair[0]\n",
        "        target_tensor = training_pair[1]\n",
        "\n",
        "        input_length = input_tensor.size(0)\n",
        "        if(input_length > 150):\n",
        "          #print(input_length)\n",
        "          continue\n",
        "      \n",
        "        loss = train(input_tensor, target_tensor, encoder,decoder, encoder_optimizer, decoder_optimizer, criterion)\n",
        "        print_loss_total += loss\n",
        "        plot_loss_total += loss\n",
        "\n",
        "        if iter % print_every == 0:\n",
        "            print_loss_avg = print_loss_total / print_every\n",
        "            print_loss_total = 0\n",
        "            print('%s (%d %d%%) %.4f' % (timeSince(start, iter / n_iters),\n",
        "                                         iter, iter / n_iters * 100, print_loss_avg))\n",
        "\n",
        "        if iter % plot_every == 0:\n",
        "            plot_loss_avg = plot_loss_total / plot_every\n",
        "            plot_losses.append(plot_loss_avg)\n",
        "            plot_loss_total = 0\n",
        "\n",
        "    showPlot(plot_losses)"
      ],
      "metadata": {
        "id": "A-gbrXtd0D14"
      },
      "execution_count": null,
      "outputs": []
    },
    {
      "cell_type": "code",
      "source": [
        "def evaluate(encoder, decoder, sentence, max_length=MAX_LENGTH):\n",
        "    with torch.no_grad():\n",
        "        input_tensor = tensorFromSentence(input_lang, sentence)\n",
        "        input_length = input_tensor.size()[0]\n",
        "        encoder_hidden = encoder.initHidden()\n",
        "\n",
        "        encoder_outputs = torch.zeros(max_length, encoder.hidden_size, device=device)\n",
        "\n",
        "        for ei in range(input_length):\n",
        "            encoder_output, encoder_hidden = encoder(input_tensor[ei],encoder_hidden)\n",
        "            encoder_outputs[ei] += encoder_output[0, 0]\n",
        "\n",
        "        decoder_input = torch.tensor([[SOS_token]], device=device)  # SOS\n",
        "\n",
        "        decoder_hidden = encoder_hidden\n",
        "\n",
        "        decoded_words = []\n",
        "        decoder_attentions = torch.zeros(max_length, max_length)\n",
        "\n",
        "        #print('cccccc->>>>')\n",
        "\n",
        "        for di in range(max_length):\n",
        "            decoder_output, decoder_hidden, decoder_attention = decoder(\n",
        "                decoder_input, decoder_hidden, encoder_outputs)\n",
        "            decoder_attentions[di] = decoder_attention.data\n",
        "            topv, topi = decoder_output.data.topk(1)\n",
        "            if topi.item() == EOS_token:\n",
        "                decoded_words.append('<EOS>')\n",
        "                break\n",
        "            else:\n",
        "                decoded_words.append(output_lang.index2word[topi.item()])\n",
        "\n",
        "            decoder_input = topi.squeeze().detach()\n",
        "\n",
        "        return decoded_words, decoder_attentions[:di + 1]"
      ],
      "metadata": {
        "id": "9LahQIb30OtF"
      },
      "execution_count": null,
      "outputs": []
    },
    {
      "cell_type": "code",
      "source": [
        "def evaluateRandomly(encoder, decoder, n=5):\n",
        "    text=list()\n",
        "    headline=list()\n",
        "    pred_headline=list()    \n",
        "    for i in range(n):\n",
        "        pair = random.choice(pairs)\n",
        "        \n",
        "        if(len(pair[0].split())>=150):\n",
        "          continue\n",
        "        else:\n",
        "          if(i%1000==0):\n",
        "            print(i*100/n,\"% complete\")\n",
        "          \n",
        "          #print('>', pair[0])\n",
        "          text.append(pair[0])\n",
        "          #print('=', pair[1])\n",
        "          headline.append(pair[1])\n",
        "          output_words, attentions = evaluate(encoder, decoder, pair[0])\n",
        "          output_sentence = ' '.join(output_words)\n",
        "          pred_headline.append(output_sentence)\n",
        "          #print('<', output_sentence)\n",
        "          #print('')\n",
        "    return(text,headline,pred_headline)"
      ],
      "metadata": {
        "id": "VoXkVwh10TfR"
      },
      "execution_count": null,
      "outputs": []
    },
    {
      "cell_type": "code",
      "source": [
        "#Entrenamineto:\n",
        "hidden_size = 300\n",
        "encoder1 = EncoderRNN(input_lang.n_words, hidden_size).to(device)\n",
        "attn_decoder1 = AttnDecoderRNN(hidden_size, output_lang.n_words, dropout_p=0.1).to(device)\n",
        "\n",
        "trainIters(encoder1, attn_decoder1, 50000, print_every=1000)"
      ],
      "metadata": {
        "colab": {
          "base_uri": "https://localhost:8080/"
        },
        "id": "iP0ti_kn0WE_",
        "outputId": "5cf753bb-d7ec-4313-b7e7-83ddfc0611cb"
      },
      "execution_count": null,
      "outputs": [
        {
          "output_type": "stream",
          "name": "stdout",
          "text": [
            "Training....\n",
            "1000 / 50001\n",
            "2000 / 50001\n",
            "9m 6s (- 218m 31s) (2000 4%) 5.7660\n",
            "3000 / 50001\n",
            "4000 / 50001\n",
            "18m 20s (- 210m 58s) (4000 8%) 5.5724\n",
            "5000 / 50001\n",
            "23m 6s (- 207m 55s) (5000 10%) 2.7856\n",
            "6000 / 50001\n",
            "27m 36s (- 202m 26s) (6000 12%) 2.4453\n",
            "7000 / 50001\n",
            "32m 11s (- 197m 43s) (7000 14%) 2.5789\n",
            "8000 / 50001\n",
            "9000 / 50001\n",
            "10000 / 50001\n",
            "11000 / 50001\n",
            "50m 38s (- 179m 32s) (11000 22%) 10.5467\n",
            "12000 / 50001\n",
            "55m 11s (- 174m 44s) (12000 24%) 2.6682\n",
            "13000 / 50001\n",
            "14000 / 50001\n",
            "64m 29s (- 165m 49s) (14000 28%) 5.4044\n",
            "15000 / 50001\n",
            "69m 0s (- 161m 1s) (15000 30%) 2.4562\n",
            "16000 / 50001\n",
            "73m 55s (- 157m 4s) (16000 32%) 3.2138\n"
          ]
        }
      ]
    },
    {
      "cell_type": "code",
      "source": [
        "#Entrenamineto:\n",
        "hidden_size = 300\n",
        "encoder2 = EncoderRNN(input_lang.n_words, hidden_size).to(device)\n",
        "attn_decoder2 = AttnDecoderRNN(hidden_size, output_lang.n_words, dropout_p=0.1).to(device)\n",
        "\n",
        "trainIters(encoder2, attn_decoder2, 30000, print_every=1000)"
      ],
      "metadata": {
        "colab": {
          "base_uri": "https://localhost:8080/"
        },
        "id": "Ban2o9oaHcls",
        "outputId": "11184d3b-e58a-4bf0-bdb1-dc8aad4dd456"
      },
      "execution_count": null,
      "outputs": [
        {
          "output_type": "stream",
          "name": "stdout",
          "text": [
            "Training....\n",
            "1000 / 30001\n",
            "4m 37s (- 134m 14s) (1000 3%) 2.7024\n",
            "2000 / 30001\n",
            "3000 / 30001\n",
            "4000 / 30001\n",
            "19m 10s (- 124m 38s) (4000 13%) 9.9269\n",
            "5000 / 30001\n",
            "24m 7s (- 120m 38s) (5000 16%) 3.2842\n",
            "6000 / 30001\n",
            "28m 47s (- 115m 9s) (6000 20%) 2.9561\n",
            "7000 / 30001\n",
            "33m 32s (- 110m 12s) (7000 23%) 2.8341\n",
            "8000 / 30001\n",
            "38m 17s (- 105m 18s) (8000 26%) 3.1246\n",
            "9000 / 30001\n",
            "42m 58s (- 100m 15s) (9000 30%) 2.8052\n",
            "10000 / 30001\n",
            "47m 29s (- 94m 59s) (10000 33%) 2.7465\n",
            "11000 / 30001\n",
            "52m 20s (- 90m 23s) (11000 36%) 2.5461\n",
            "12000 / 30001\n",
            "13000 / 30001\n",
            "61m 29s (- 80m 24s) (13000 43%) 4.5962\n",
            "14000 / 30001\n",
            "15000 / 30001\n",
            "16000 / 30001\n",
            "17000 / 30001\n",
            "80m 8s (- 61m 17s) (17000 56%) 10.5193\n",
            "18000 / 30001\n",
            "19000 / 30001\n",
            "89m 32s (- 51m 50s) (19000 63%) 6.3307\n",
            "20000 / 30001\n",
            "94m 13s (- 47m 6s) (20000 66%) 2.9026\n",
            "21000 / 30001\n",
            "22000 / 30001\n",
            "23000 / 30001\n",
            "108m 8s (- 32m 54s) (23000 76%) 8.3107\n",
            "24000 / 30001\n",
            "112m 40s (- 28m 10s) (24000 80%) 2.8663\n",
            "25000 / 30001\n",
            "26000 / 30001\n",
            "122m 1s (- 18m 46s) (26000 86%) 5.8828\n",
            "27000 / 30001\n",
            "28000 / 30001\n",
            "29000 / 30001\n",
            "136m 28s (- 4m 42s) (29000 96%) 9.5374\n",
            "30000 / 30001\n",
            "141m 28s (- 0m 0s) (30000 100%) 3.4112\n"
          ]
        }
      ]
    },
    {
      "cell_type": "code",
      "source": [
        "text,headline,pred_headline=evaluateRandomly(encoder1, attn_decoder1,15000)"
      ],
      "metadata": {
        "colab": {
          "base_uri": "https://localhost:8080/"
        },
        "id": "XTBYKylDGs4C",
        "outputId": "0d949ecc-95e3-4352-c31f-f116f395efa0"
      },
      "execution_count": null,
      "outputs": [
        {
          "output_type": "stream",
          "name": "stdout",
          "text": [
            "0.0 % complete\n",
            "6.666666666666667 % complete\n",
            "20.0 % complete\n",
            "26.666666666666668 % complete\n",
            "33.333333333333336 % complete\n",
            "40.0 % complete\n",
            "53.333333333333336 % complete\n",
            "60.0 % complete\n",
            "80.0 % complete\n",
            "93.33333333333333 % complete\n"
          ]
        }
      ]
    },
    {
      "cell_type": "code",
      "source": [
        "text,headline,pred_headline=evaluateRandomly(encoder2, attn_decoder2,15000)"
      ],
      "metadata": {
        "colab": {
          "base_uri": "https://localhost:8080/"
        },
        "id": "4UziGNThJsc-",
        "outputId": "7a709bf5-57d6-4cdb-ab63-504ed78cf726"
      },
      "execution_count": null,
      "outputs": [
        {
          "output_type": "stream",
          "name": "stdout",
          "text": [
            "0.0 % complete\n",
            "20.0 % complete\n",
            "40.0 % complete\n",
            "53.333333333333336 % complete\n",
            "60.0 % complete\n",
            "66.66666666666667 % complete\n",
            "86.66666666666667 % complete\n",
            "93.33333333333333 % complete\n"
          ]
        }
      ]
    },
    {
      "cell_type": "code",
      "source": [
        "pred_df_LSTM=pd.DataFrame()\n",
        "pred_df_LSTM['Noticias']=text\n",
        "pred_df_LSTM['Resumenes']=headline\n",
        "pred_df_LSTM['ResumenNew']=pred_headline"
      ],
      "metadata": {
        "id": "GJYWqAbuI1_t"
      },
      "execution_count": null,
      "outputs": []
    },
    {
      "cell_type": "code",
      "source": [
        "pred_df_LSTM.head()"
      ],
      "metadata": {
        "colab": {
          "base_uri": "https://localhost:8080/",
          "height": 206
        },
        "id": "0SbswHIEIg_A",
        "outputId": "fba606c0-3d86-43ca-e41c-f14fa34b33f4"
      },
      "execution_count": null,
      "outputs": [
        {
          "output_type": "execute_result",
          "data": {
            "text/plain": [
              "                                            Noticias  \\\n",
              "0  elección francesacon divertidos discursos colo...   \n",
              "1  buscan tec jugar eulos itesm monterrey estado ...   \n",
              "2  confirma oasis cancelación tíbetel grupo britá...   \n",
              "3  suman casos a morelosautoridades salud morelos...   \n",
              "4  celebra soberanes salida medina mora el titula...   \n",
              "\n",
              "                                           Resumenes  \\\n",
              "0  Alumnas de la prepa de la UP, Campus Yaocalli,...   \n",
              "1  El coach del Tec CEM, Enrique Borda, viajó a E...   \n",
              "2  Oasis confirmó que la anulación de los dos con...   \n",
              "3  Salud confirmó 16 nuevos casos de influenza A ...   \n",
              "4  El titular de la CNDH aplaudió el relevo de Ed...   \n",
              "\n",
              "                                          ResumenNew  \n",
              "0  El de de a de en de el de de de de en de de de...  \n",
              "1  Un el de de de de en de de de de de de de de e...  \n",
              "2  Un de de a de el de en de de de de de de de de...  \n",
              "3  Un de de de en de el de de de en de de de de d...  \n",
              "4  El el de de de en de de de de de de en de de d...  "
            ],
            "text/html": [
              "\n",
              "  <div id=\"df-f136c7b3-82b1-48ec-b73c-e3a557abdc3d\">\n",
              "    <div class=\"colab-df-container\">\n",
              "      <div>\n",
              "<style scoped>\n",
              "    .dataframe tbody tr th:only-of-type {\n",
              "        vertical-align: middle;\n",
              "    }\n",
              "\n",
              "    .dataframe tbody tr th {\n",
              "        vertical-align: top;\n",
              "    }\n",
              "\n",
              "    .dataframe thead th {\n",
              "        text-align: right;\n",
              "    }\n",
              "</style>\n",
              "<table border=\"1\" class=\"dataframe\">\n",
              "  <thead>\n",
              "    <tr style=\"text-align: right;\">\n",
              "      <th></th>\n",
              "      <th>Noticias</th>\n",
              "      <th>Resumenes</th>\n",
              "      <th>ResumenNew</th>\n",
              "    </tr>\n",
              "  </thead>\n",
              "  <tbody>\n",
              "    <tr>\n",
              "      <th>0</th>\n",
              "      <td>elección francesacon divertidos discursos colo...</td>\n",
              "      <td>Alumnas de la prepa de la UP, Campus Yaocalli,...</td>\n",
              "      <td>El de de a de en de el de de de de en de de de...</td>\n",
              "    </tr>\n",
              "    <tr>\n",
              "      <th>1</th>\n",
              "      <td>buscan tec jugar eulos itesm monterrey estado ...</td>\n",
              "      <td>El coach del Tec CEM, Enrique Borda, viajó a E...</td>\n",
              "      <td>Un el de de de de en de de de de de de de de e...</td>\n",
              "    </tr>\n",
              "    <tr>\n",
              "      <th>2</th>\n",
              "      <td>confirma oasis cancelación tíbetel grupo britá...</td>\n",
              "      <td>Oasis confirmó que la anulación de los dos con...</td>\n",
              "      <td>Un de de a de el de en de de de de de de de de...</td>\n",
              "    </tr>\n",
              "    <tr>\n",
              "      <th>3</th>\n",
              "      <td>suman casos a morelosautoridades salud morelos...</td>\n",
              "      <td>Salud confirmó 16 nuevos casos de influenza A ...</td>\n",
              "      <td>Un de de de en de el de de de en de de de de d...</td>\n",
              "    </tr>\n",
              "    <tr>\n",
              "      <th>4</th>\n",
              "      <td>celebra soberanes salida medina mora el titula...</td>\n",
              "      <td>El titular de la CNDH aplaudió el relevo de Ed...</td>\n",
              "      <td>El el de de de en de de de de de de en de de d...</td>\n",
              "    </tr>\n",
              "  </tbody>\n",
              "</table>\n",
              "</div>\n",
              "      <button class=\"colab-df-convert\" onclick=\"convertToInteractive('df-f136c7b3-82b1-48ec-b73c-e3a557abdc3d')\"\n",
              "              title=\"Convert this dataframe to an interactive table.\"\n",
              "              style=\"display:none;\">\n",
              "        \n",
              "  <svg xmlns=\"http://www.w3.org/2000/svg\" height=\"24px\"viewBox=\"0 0 24 24\"\n",
              "       width=\"24px\">\n",
              "    <path d=\"M0 0h24v24H0V0z\" fill=\"none\"/>\n",
              "    <path d=\"M18.56 5.44l.94 2.06.94-2.06 2.06-.94-2.06-.94-.94-2.06-.94 2.06-2.06.94zm-11 1L8.5 8.5l.94-2.06 2.06-.94-2.06-.94L8.5 2.5l-.94 2.06-2.06.94zm10 10l.94 2.06.94-2.06 2.06-.94-2.06-.94-.94-2.06-.94 2.06-2.06.94z\"/><path d=\"M17.41 7.96l-1.37-1.37c-.4-.4-.92-.59-1.43-.59-.52 0-1.04.2-1.43.59L10.3 9.45l-7.72 7.72c-.78.78-.78 2.05 0 2.83L4 21.41c.39.39.9.59 1.41.59.51 0 1.02-.2 1.41-.59l7.78-7.78 2.81-2.81c.8-.78.8-2.07 0-2.86zM5.41 20L4 18.59l7.72-7.72 1.47 1.35L5.41 20z\"/>\n",
              "  </svg>\n",
              "      </button>\n",
              "      \n",
              "  <style>\n",
              "    .colab-df-container {\n",
              "      display:flex;\n",
              "      flex-wrap:wrap;\n",
              "      gap: 12px;\n",
              "    }\n",
              "\n",
              "    .colab-df-convert {\n",
              "      background-color: #E8F0FE;\n",
              "      border: none;\n",
              "      border-radius: 50%;\n",
              "      cursor: pointer;\n",
              "      display: none;\n",
              "      fill: #1967D2;\n",
              "      height: 32px;\n",
              "      padding: 0 0 0 0;\n",
              "      width: 32px;\n",
              "    }\n",
              "\n",
              "    .colab-df-convert:hover {\n",
              "      background-color: #E2EBFA;\n",
              "      box-shadow: 0px 1px 2px rgba(60, 64, 67, 0.3), 0px 1px 3px 1px rgba(60, 64, 67, 0.15);\n",
              "      fill: #174EA6;\n",
              "    }\n",
              "\n",
              "    [theme=dark] .colab-df-convert {\n",
              "      background-color: #3B4455;\n",
              "      fill: #D2E3FC;\n",
              "    }\n",
              "\n",
              "    [theme=dark] .colab-df-convert:hover {\n",
              "      background-color: #434B5C;\n",
              "      box-shadow: 0px 1px 3px 1px rgba(0, 0, 0, 0.15);\n",
              "      filter: drop-shadow(0px 1px 2px rgba(0, 0, 0, 0.3));\n",
              "      fill: #FFFFFF;\n",
              "    }\n",
              "  </style>\n",
              "\n",
              "      <script>\n",
              "        const buttonEl =\n",
              "          document.querySelector('#df-f136c7b3-82b1-48ec-b73c-e3a557abdc3d button.colab-df-convert');\n",
              "        buttonEl.style.display =\n",
              "          google.colab.kernel.accessAllowed ? 'block' : 'none';\n",
              "\n",
              "        async function convertToInteractive(key) {\n",
              "          const element = document.querySelector('#df-f136c7b3-82b1-48ec-b73c-e3a557abdc3d');\n",
              "          const dataTable =\n",
              "            await google.colab.kernel.invokeFunction('convertToInteractive',\n",
              "                                                     [key], {});\n",
              "          if (!dataTable) return;\n",
              "\n",
              "          const docLinkHtml = 'Like what you see? Visit the ' +\n",
              "            '<a target=\"_blank\" href=https://colab.research.google.com/notebooks/data_table.ipynb>data table notebook</a>'\n",
              "            + ' to learn more about interactive tables.';\n",
              "          element.innerHTML = '';\n",
              "          dataTable['output_type'] = 'display_data';\n",
              "          await google.colab.output.renderOutput(dataTable, element);\n",
              "          const docLink = document.createElement('div');\n",
              "          docLink.innerHTML = docLinkHtml;\n",
              "          element.appendChild(docLink);\n",
              "        }\n",
              "      </script>\n",
              "    </div>\n",
              "  </div>\n",
              "  "
            ]
          },
          "metadata": {},
          "execution_count": 46
        }
      ]
    },
    {
      "cell_type": "code",
      "source": [
        "pred_df_LSTM['ResumenNew'][1:10]"
      ],
      "metadata": {
        "colab": {
          "base_uri": "https://localhost:8080/"
        },
        "id": "YRiQeFgar1mp",
        "outputId": "493ffd8c-a0a3-49a9-e890-43b1e13c8869"
      },
      "execution_count": null,
      "outputs": [
        {
          "output_type": "execute_result",
          "data": {
            "text/plain": [
              "1    Un el de de de de en de de de de de de de de e...\n",
              "2    Un de de a de el de en de de de de de de de de...\n",
              "3    Un de de de en de el de de de en de de de de d...\n",
              "4    El el de de de en de de de de de de en de de d...\n",
              "5    Un de de a de en de de de de de de de de de de...\n",
              "6    Un de de de en de el de de de de de en de de d...\n",
              "7    Un de de de el en de de de de de de de de en d...\n",
              "8    Un el de de de de en de de de de de de de de e...\n",
              "9    El el de de de en a de de de de de de de de de...\n",
              "Name: ResumenNew, dtype: object"
            ]
          },
          "metadata": {},
          "execution_count": 50
        }
      ]
    }
  ]
}