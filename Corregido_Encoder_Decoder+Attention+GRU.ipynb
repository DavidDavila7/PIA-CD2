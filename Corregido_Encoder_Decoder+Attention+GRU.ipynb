{
  "nbformat": 4,
  "nbformat_minor": 0,
  "metadata": {
    "colab": {
      "provenance": [],
      "collapsed_sections": []
    },
    "kernelspec": {
      "name": "python3",
      "display_name": "Python 3"
    },
    "language_info": {
      "name": "python"
    },
    "gpuClass": "premium"
  },
  "cells": [
    {
      "cell_type": "markdown",
      "source": [
        "Implementacion recuperada de:\n",
        "\n",
        "https://github.com/shivamduseja/Deep-Summarization/blob/master/LSTM_with_attention.ipynb"
      ],
      "metadata": {
        "id": "ex4PKxctbwTt"
      }
    },
    {
      "cell_type": "code",
      "execution_count": null,
      "metadata": {
        "colab": {
          "base_uri": "https://localhost:8080/"
        },
        "id": "Xza3ADYQaRFQ",
        "outputId": "7e797c38-4bb2-4442-e98f-2abd8b25836a"
      },
      "outputs": [
        {
          "output_type": "stream",
          "name": "stderr",
          "text": [
            "[nltk_data] Downloading package stopwords to /root/nltk_data...\n",
            "[nltk_data]   Unzipping corpora/stopwords.zip.\n"
          ]
        },
        {
          "output_type": "execute_result",
          "data": {
            "text/plain": [
              "True"
            ]
          },
          "metadata": {},
          "execution_count": 2
        }
      ],
      "source": [
        "import pandas as pd\n",
        "import numpy as np\n",
        "import os\n",
        "import re\n",
        "import warnings\n",
        "warnings.filterwarnings(\"ignore\")\n",
        "from sklearn import datasets, linear_model\n",
        "from sklearn.model_selection import train_test_split\n",
        "from matplotlib import pyplot as plt\n",
        "from bs4 import BeautifulSoup\n",
        "from nltk.corpus import stopwords\n",
        "\n",
        "import nltk\n",
        "nltk.download('stopwords')"
      ]
    },
    {
      "cell_type": "code",
      "source": [
        "from google.colab import drive\n",
        "drive.mount('/content/drive')"
      ],
      "metadata": {
        "colab": {
          "base_uri": "https://localhost:8080/"
        },
        "id": "wt3_KGwsRHBg",
        "outputId": "faae23ff-7181-410f-fd6f-0cdf7b4cbbc1"
      },
      "execution_count": null,
      "outputs": [
        {
          "output_type": "stream",
          "name": "stdout",
          "text": [
            "Mounted at /content/drive\n"
          ]
        }
      ]
    },
    {
      "cell_type": "code",
      "source": [
        "import sqlite3\n",
        "dbfile = '/content/drive/MyDrive/NoticiasReforma2009.db'\n",
        "import pandas as pd\n",
        "import sqlite3\n",
        "import sqlalchemy \n",
        "\n",
        "try:\n",
        "    con = sqlite3.connect(dbfile)    \n",
        "except Exception as e:\n",
        "    print(e)\n",
        "\n",
        "#Now in order to read in pandas dataframe we need to know table name\n",
        "cursor = con.cursor()\n",
        "cursor.execute(\"SELECT name FROM sqlite_master WHERE type='table';\")\n",
        "print(f\"Table Name : {cursor.fetchall()}\")\n",
        "\n",
        "\n",
        "df = pd.read_sql_query('SELECT * FROM Noticias2009', con)\n",
        "con.close()\n"
      ],
      "metadata": {
        "colab": {
          "base_uri": "https://localhost:8080/"
        },
        "id": "H-4Ht48akoOg",
        "outputId": "be5da0d1-cd7c-4da6-fcff-2af43bcf2559"
      },
      "execution_count": null,
      "outputs": [
        {
          "output_type": "stream",
          "name": "stdout",
          "text": [
            "Table Name : [('Reforma2009',), ('Noticias2009',)]\n"
          ]
        }
      ]
    },
    {
      "cell_type": "code",
      "source": [
        "df.head()"
      ],
      "metadata": {
        "id": "oKL-Lsk-yaxk",
        "colab": {
          "base_uri": "https://localhost:8080/",
          "height": 206
        },
        "outputId": "326f6adf-108a-4f42-eb68-16febb9c74e7"
      },
      "execution_count": null,
      "outputs": [
        {
          "output_type": "execute_result",
          "data": {
            "text/plain": [
              "         fecha                                    titulo  \\\n",
              "0  01-Ene-2009                 Fallan Zunes de Microsoft   \n",
              "1  01-Ene-2009                               SAN CADILLA   \n",
              "2  01-Ene-2009      ALEPH CERO / Materia vs. antimateria   \n",
              "3  01-Ene-2009  GACETA DEL ÁNGEL / Yo soy macho donde qu   \n",
              "4  01-Ene-2009                         CIRCUITO INTERIOR   \n",
              "\n",
              "                                               links      seccion    medio  \\\n",
              "0  https://busquedas.gruporeforma.com/reforma/Doc...      Gadgets  Reforma   \n",
              "1  https://busquedas.gruporeforma.com/reforma/Doc...  editoriales  Reforma   \n",
              "2  https://busquedas.gruporeforma.com/reforma/Doc...  editoriales  Reforma   \n",
              "3  https://busquedas.gruporeforma.com/reforma/Doc...  editoriales  Reforma   \n",
              "4  https://busquedas.gruporeforma.com/reforma/Doc...  editoriales  Reforma   \n",
              "\n",
              "           autor                                            resumen  \\\n",
              "0             AP  Los reproductores de música Zune dejan de func...   \n",
              "1                 Se pasan de trabajadores\\n \\nMientras hoy uste...   \n",
              "2  Shahen Hacyan  En el Principio eran la luz, la materia y la a...   \n",
              "3  Germán Dehesa  ANTECEDENTES: el día de ayer, mientras confecc...   \n",
              "4                 Unos tristes, otros contentos\\n \\n \\nLOS QUE a...   \n",
              "\n",
              "                                            articulo  \n",
              "0  \\n                        Fallan reproductores...  \n",
              "1  \\n                        SAN CADILLASe pasan ...  \n",
              "2  \\n                        ALEPH CERO / Materia...  \n",
              "3  \\n                        GACETA DEL ÁNGEL / Y...  \n",
              "4  \\n                        CIRCUITO INTERIORUno...  "
            ],
            "text/html": [
              "\n",
              "  <div id=\"df-d5f66dc8-3cec-4b7c-a456-7408929421fd\">\n",
              "    <div class=\"colab-df-container\">\n",
              "      <div>\n",
              "<style scoped>\n",
              "    .dataframe tbody tr th:only-of-type {\n",
              "        vertical-align: middle;\n",
              "    }\n",
              "\n",
              "    .dataframe tbody tr th {\n",
              "        vertical-align: top;\n",
              "    }\n",
              "\n",
              "    .dataframe thead th {\n",
              "        text-align: right;\n",
              "    }\n",
              "</style>\n",
              "<table border=\"1\" class=\"dataframe\">\n",
              "  <thead>\n",
              "    <tr style=\"text-align: right;\">\n",
              "      <th></th>\n",
              "      <th>fecha</th>\n",
              "      <th>titulo</th>\n",
              "      <th>links</th>\n",
              "      <th>seccion</th>\n",
              "      <th>medio</th>\n",
              "      <th>autor</th>\n",
              "      <th>resumen</th>\n",
              "      <th>articulo</th>\n",
              "    </tr>\n",
              "  </thead>\n",
              "  <tbody>\n",
              "    <tr>\n",
              "      <th>0</th>\n",
              "      <td>01-Ene-2009</td>\n",
              "      <td>Fallan Zunes de Microsoft</td>\n",
              "      <td>https://busquedas.gruporeforma.com/reforma/Doc...</td>\n",
              "      <td>Gadgets</td>\n",
              "      <td>Reforma</td>\n",
              "      <td>AP</td>\n",
              "      <td>Los reproductores de música Zune dejan de func...</td>\n",
              "      <td>\\n                        Fallan reproductores...</td>\n",
              "    </tr>\n",
              "    <tr>\n",
              "      <th>1</th>\n",
              "      <td>01-Ene-2009</td>\n",
              "      <td>SAN CADILLA</td>\n",
              "      <td>https://busquedas.gruporeforma.com/reforma/Doc...</td>\n",
              "      <td>editoriales</td>\n",
              "      <td>Reforma</td>\n",
              "      <td></td>\n",
              "      <td>Se pasan de trabajadores\\n \\nMientras hoy uste...</td>\n",
              "      <td>\\n                        SAN CADILLASe pasan ...</td>\n",
              "    </tr>\n",
              "    <tr>\n",
              "      <th>2</th>\n",
              "      <td>01-Ene-2009</td>\n",
              "      <td>ALEPH CERO / Materia vs. antimateria</td>\n",
              "      <td>https://busquedas.gruporeforma.com/reforma/Doc...</td>\n",
              "      <td>editoriales</td>\n",
              "      <td>Reforma</td>\n",
              "      <td>Shahen Hacyan</td>\n",
              "      <td>En el Principio eran la luz, la materia y la a...</td>\n",
              "      <td>\\n                        ALEPH CERO / Materia...</td>\n",
              "    </tr>\n",
              "    <tr>\n",
              "      <th>3</th>\n",
              "      <td>01-Ene-2009</td>\n",
              "      <td>GACETA DEL ÁNGEL / Yo soy macho donde qu</td>\n",
              "      <td>https://busquedas.gruporeforma.com/reforma/Doc...</td>\n",
              "      <td>editoriales</td>\n",
              "      <td>Reforma</td>\n",
              "      <td>Germán Dehesa</td>\n",
              "      <td>ANTECEDENTES: el día de ayer, mientras confecc...</td>\n",
              "      <td>\\n                        GACETA DEL ÁNGEL / Y...</td>\n",
              "    </tr>\n",
              "    <tr>\n",
              "      <th>4</th>\n",
              "      <td>01-Ene-2009</td>\n",
              "      <td>CIRCUITO INTERIOR</td>\n",
              "      <td>https://busquedas.gruporeforma.com/reforma/Doc...</td>\n",
              "      <td>editoriales</td>\n",
              "      <td>Reforma</td>\n",
              "      <td></td>\n",
              "      <td>Unos tristes, otros contentos\\n \\n \\nLOS QUE a...</td>\n",
              "      <td>\\n                        CIRCUITO INTERIORUno...</td>\n",
              "    </tr>\n",
              "  </tbody>\n",
              "</table>\n",
              "</div>\n",
              "      <button class=\"colab-df-convert\" onclick=\"convertToInteractive('df-d5f66dc8-3cec-4b7c-a456-7408929421fd')\"\n",
              "              title=\"Convert this dataframe to an interactive table.\"\n",
              "              style=\"display:none;\">\n",
              "        \n",
              "  <svg xmlns=\"http://www.w3.org/2000/svg\" height=\"24px\"viewBox=\"0 0 24 24\"\n",
              "       width=\"24px\">\n",
              "    <path d=\"M0 0h24v24H0V0z\" fill=\"none\"/>\n",
              "    <path d=\"M18.56 5.44l.94 2.06.94-2.06 2.06-.94-2.06-.94-.94-2.06-.94 2.06-2.06.94zm-11 1L8.5 8.5l.94-2.06 2.06-.94-2.06-.94L8.5 2.5l-.94 2.06-2.06.94zm10 10l.94 2.06.94-2.06 2.06-.94-2.06-.94-.94-2.06-.94 2.06-2.06.94z\"/><path d=\"M17.41 7.96l-1.37-1.37c-.4-.4-.92-.59-1.43-.59-.52 0-1.04.2-1.43.59L10.3 9.45l-7.72 7.72c-.78.78-.78 2.05 0 2.83L4 21.41c.39.39.9.59 1.41.59.51 0 1.02-.2 1.41-.59l7.78-7.78 2.81-2.81c.8-.78.8-2.07 0-2.86zM5.41 20L4 18.59l7.72-7.72 1.47 1.35L5.41 20z\"/>\n",
              "  </svg>\n",
              "      </button>\n",
              "      \n",
              "  <style>\n",
              "    .colab-df-container {\n",
              "      display:flex;\n",
              "      flex-wrap:wrap;\n",
              "      gap: 12px;\n",
              "    }\n",
              "\n",
              "    .colab-df-convert {\n",
              "      background-color: #E8F0FE;\n",
              "      border: none;\n",
              "      border-radius: 50%;\n",
              "      cursor: pointer;\n",
              "      display: none;\n",
              "      fill: #1967D2;\n",
              "      height: 32px;\n",
              "      padding: 0 0 0 0;\n",
              "      width: 32px;\n",
              "    }\n",
              "\n",
              "    .colab-df-convert:hover {\n",
              "      background-color: #E2EBFA;\n",
              "      box-shadow: 0px 1px 2px rgba(60, 64, 67, 0.3), 0px 1px 3px 1px rgba(60, 64, 67, 0.15);\n",
              "      fill: #174EA6;\n",
              "    }\n",
              "\n",
              "    [theme=dark] .colab-df-convert {\n",
              "      background-color: #3B4455;\n",
              "      fill: #D2E3FC;\n",
              "    }\n",
              "\n",
              "    [theme=dark] .colab-df-convert:hover {\n",
              "      background-color: #434B5C;\n",
              "      box-shadow: 0px 1px 3px 1px rgba(0, 0, 0, 0.15);\n",
              "      filter: drop-shadow(0px 1px 2px rgba(0, 0, 0, 0.3));\n",
              "      fill: #FFFFFF;\n",
              "    }\n",
              "  </style>\n",
              "\n",
              "      <script>\n",
              "        const buttonEl =\n",
              "          document.querySelector('#df-d5f66dc8-3cec-4b7c-a456-7408929421fd button.colab-df-convert');\n",
              "        buttonEl.style.display =\n",
              "          google.colab.kernel.accessAllowed ? 'block' : 'none';\n",
              "\n",
              "        async function convertToInteractive(key) {\n",
              "          const element = document.querySelector('#df-d5f66dc8-3cec-4b7c-a456-7408929421fd');\n",
              "          const dataTable =\n",
              "            await google.colab.kernel.invokeFunction('convertToInteractive',\n",
              "                                                     [key], {});\n",
              "          if (!dataTable) return;\n",
              "\n",
              "          const docLinkHtml = 'Like what you see? Visit the ' +\n",
              "            '<a target=\"_blank\" href=https://colab.research.google.com/notebooks/data_table.ipynb>data table notebook</a>'\n",
              "            + ' to learn more about interactive tables.';\n",
              "          element.innerHTML = '';\n",
              "          dataTable['output_type'] = 'display_data';\n",
              "          await google.colab.output.renderOutput(dataTable, element);\n",
              "          const docLink = document.createElement('div');\n",
              "          docLink.innerHTML = docLinkHtml;\n",
              "          element.appendChild(docLink);\n",
              "        }\n",
              "      </script>\n",
              "    </div>\n",
              "  </div>\n",
              "  "
            ]
          },
          "metadata": {},
          "execution_count": 5
        }
      ]
    },
    {
      "cell_type": "code",
      "source": [
        "import nltk\n",
        "from nltk.corpus import stopwords\n",
        "from nltk.tokenize import word_tokenize\n",
        "nltk.download('punkt')"
      ],
      "metadata": {
        "colab": {
          "base_uri": "https://localhost:8080/"
        },
        "id": "U-9t3j9flEPG",
        "outputId": "06a340c4-43a6-431d-d24b-0a48eb004c1a"
      },
      "execution_count": null,
      "outputs": [
        {
          "output_type": "stream",
          "name": "stderr",
          "text": [
            "[nltk_data] Downloading package punkt to /root/nltk_data...\n",
            "[nltk_data]   Unzipping tokenizers/punkt.zip.\n"
          ]
        },
        {
          "output_type": "execute_result",
          "data": {
            "text/plain": [
              "True"
            ]
          },
          "metadata": {},
          "execution_count": 6
        }
      ]
    },
    {
      "cell_type": "markdown",
      "source": [
        "Preprocesamos las noticias:"
      ],
      "metadata": {
        "id": "u-vf5_Yn_rZ_"
      }
    },
    {
      "cell_type": "code",
      "source": [
        "stopSpanish=set(stopwords.words('spanish'))\n",
        "noticias=[]\n",
        "for i in range (61035):\n",
        "  text_tokens = word_tokenize(df['articulo'][i])\n",
        "  tokens_without_sw = [word for word in text_tokens if not word in stopSpanish]\n",
        "  tokens_without_sw = [word.lower() for word in tokens_without_sw if word.isalpha()]\n",
        "  noticias.append(' '.join(tokens_without_sw))"
      ],
      "metadata": {
        "id": "-eMMVjyrkvgk"
      },
      "execution_count": null,
      "outputs": []
    },
    {
      "cell_type": "markdown",
      "source": [
        "Preprocesamos los resumenes"
      ],
      "metadata": {
        "id": "OCdy-EVr_17W"
      }
    },
    {
      "cell_type": "code",
      "source": [
        "stopSpanish=set(stopwords.words('spanish'))\n",
        "resumen=[]\n",
        "for i in range (len(df['resumen'])):\n",
        "  text_tokens = word_tokenize(df['resumen'][i])\n",
        "  tokens_without_sw = [word for word in text_tokens if not word in stopSpanish]\n",
        "  tokens_without_sw = [word.lower() for word in tokens_without_sw if word.isalpha()]\n",
        "  resumen.append(' '.join(tokens_without_sw))"
      ],
      "metadata": {
        "id": "rddBUYPvyMPs"
      },
      "execution_count": null,
      "outputs": []
    },
    {
      "cell_type": "code",
      "source": [
        "len(noticias)"
      ],
      "metadata": {
        "colab": {
          "base_uri": "https://localhost:8080/"
        },
        "id": "lj-_iT9PplHe",
        "outputId": "431ea5e5-b24a-46de-b440-09801bfcd7b0"
      },
      "execution_count": null,
      "outputs": [
        {
          "output_type": "execute_result",
          "data": {
            "text/plain": [
              "61035"
            ]
          },
          "metadata": {},
          "execution_count": 9
        }
      ]
    },
    {
      "cell_type": "code",
      "source": [
        "noticias[0]"
      ],
      "metadata": {
        "colab": {
          "base_uri": "https://localhost:8080/",
          "height": 105
        },
        "id": "bTQ838XeB4LK",
        "outputId": "6e316844-73d0-46b6-ea85-23a3a3aa1d81"
      },
      "execution_count": null,
      "outputs": [
        {
          "output_type": "execute_result",
          "data": {
            "text/plain": [
              "'fallan reproductores zune microsoft en año nuevo usuarios popular reproductor música zune microsoft pudieron escuchar reproductores zune microsoft respuesta gigante software populares ipod empresa apple dejaron funcionar inesperadamente noche ayer mostraban usuarios mensaje error llevó referencias colapso zunes el problema surgió gente intentó hacer funcionar usuarios buscaron foros ayuda microsoft zune inundaron portal mil empresa sede redmond washington informó problema afectó sólo modelos gigabytes zune provocado problema reloj esperaba problema resuelva tan pronto relojes pasen fecha enero aunque usuarios deberán adoptar varias medidas aparatos funcionen normalmente dejar baterías acaben completo aparatos reinicien falla tantos reproductores mismo tiempo trajo comparaciones problema programación año generó temores crisis generalizada computadoras mundo máquinas avanzaban nuevo reproductores zune populares comparación ipods controla aproximadamente tres cuartas partes mercado reproductores música los zune menos ciento mercado acuerdo estadísticas npd embargo usuarios sido leales marca nuevos modelos zune recibido críticas favorables'"
            ],
            "application/vnd.google.colaboratory.intrinsic+json": {
              "type": "string"
            }
          },
          "metadata": {},
          "execution_count": 10
        }
      ]
    },
    {
      "cell_type": "code",
      "source": [
        "resumen[0]"
      ],
      "metadata": {
        "colab": {
          "base_uri": "https://localhost:8080/",
          "height": 35
        },
        "id": "1qBtIn-DyyRs",
        "outputId": "7a4070a6-6692-4555-e1cf-cc88cac1b4c2"
      },
      "execution_count": null,
      "outputs": [
        {
          "output_type": "execute_result",
          "data": {
            "text/plain": [
              "'los reproductores música zune dejan funcionar noche año nuevo mientras microsoft afirma normalizará enero'"
            ],
            "application/vnd.google.colaboratory.intrinsic+json": {
              "type": "string"
            }
          },
          "metadata": {},
          "execution_count": 11
        }
      ]
    },
    {
      "cell_type": "code",
      "source": [
        "data={'Noticia': noticias, 'Resumen Original': df['resumen'][:], 'Resumen Procesado': resumen}"
      ],
      "metadata": {
        "id": "86NghnNUlxFU"
      },
      "execution_count": null,
      "outputs": []
    },
    {
      "cell_type": "code",
      "source": [
        "df1=pd.DataFrame(data)\n",
        "df1.head()"
      ],
      "metadata": {
        "colab": {
          "base_uri": "https://localhost:8080/",
          "height": 206
        },
        "id": "eINz8dnbmVNi",
        "outputId": "a84ddd82-2d85-492b-accc-e992cff5f707"
      },
      "execution_count": null,
      "outputs": [
        {
          "output_type": "execute_result",
          "data": {
            "text/plain": [
              "                                             Noticia  \\\n",
              "0  fallan reproductores zune microsoft en año nue...   \n",
              "1  san cadillase pasan trabajadores mientras hoy ...   \n",
              "2  aleph cero materia antimateriaen principio luz...   \n",
              "3  gaceta del ángel yo macho quantecedentes día a...   \n",
              "4  circuito interiorunos tristes contentos los qu...   \n",
              "\n",
              "                                    Resumen Original  \\\n",
              "0  Los reproductores de música Zune dejan de func...   \n",
              "1  Se pasan de trabajadores\\n \\nMientras hoy uste...   \n",
              "2  En el Principio eran la luz, la materia y la a...   \n",
              "3  ANTECEDENTES: el día de ayer, mientras confecc...   \n",
              "4  Unos tristes, otros contentos\\n \\n \\nLOS QUE a...   \n",
              "\n",
              "                                   Resumen Procesado  \n",
              "0  los reproductores música zune dejan funcionar ...  \n",
              "1  se pasan trabajadores mientras hoy usted tempr...  \n",
              "2  en principio luz materia antimateria luego mat...  \n",
              "3  antecedentes día ayer mientras confeccionaba c...  \n",
              "4  unos tristes contentos los que andan plano cap...  "
            ],
            "text/html": [
              "\n",
              "  <div id=\"df-3d976b20-2ce6-4e68-9b73-415c0d5674a4\">\n",
              "    <div class=\"colab-df-container\">\n",
              "      <div>\n",
              "<style scoped>\n",
              "    .dataframe tbody tr th:only-of-type {\n",
              "        vertical-align: middle;\n",
              "    }\n",
              "\n",
              "    .dataframe tbody tr th {\n",
              "        vertical-align: top;\n",
              "    }\n",
              "\n",
              "    .dataframe thead th {\n",
              "        text-align: right;\n",
              "    }\n",
              "</style>\n",
              "<table border=\"1\" class=\"dataframe\">\n",
              "  <thead>\n",
              "    <tr style=\"text-align: right;\">\n",
              "      <th></th>\n",
              "      <th>Noticia</th>\n",
              "      <th>Resumen Original</th>\n",
              "      <th>Resumen Procesado</th>\n",
              "    </tr>\n",
              "  </thead>\n",
              "  <tbody>\n",
              "    <tr>\n",
              "      <th>0</th>\n",
              "      <td>fallan reproductores zune microsoft en año nue...</td>\n",
              "      <td>Los reproductores de música Zune dejan de func...</td>\n",
              "      <td>los reproductores música zune dejan funcionar ...</td>\n",
              "    </tr>\n",
              "    <tr>\n",
              "      <th>1</th>\n",
              "      <td>san cadillase pasan trabajadores mientras hoy ...</td>\n",
              "      <td>Se pasan de trabajadores\\n \\nMientras hoy uste...</td>\n",
              "      <td>se pasan trabajadores mientras hoy usted tempr...</td>\n",
              "    </tr>\n",
              "    <tr>\n",
              "      <th>2</th>\n",
              "      <td>aleph cero materia antimateriaen principio luz...</td>\n",
              "      <td>En el Principio eran la luz, la materia y la a...</td>\n",
              "      <td>en principio luz materia antimateria luego mat...</td>\n",
              "    </tr>\n",
              "    <tr>\n",
              "      <th>3</th>\n",
              "      <td>gaceta del ángel yo macho quantecedentes día a...</td>\n",
              "      <td>ANTECEDENTES: el día de ayer, mientras confecc...</td>\n",
              "      <td>antecedentes día ayer mientras confeccionaba c...</td>\n",
              "    </tr>\n",
              "    <tr>\n",
              "      <th>4</th>\n",
              "      <td>circuito interiorunos tristes contentos los qu...</td>\n",
              "      <td>Unos tristes, otros contentos\\n \\n \\nLOS QUE a...</td>\n",
              "      <td>unos tristes contentos los que andan plano cap...</td>\n",
              "    </tr>\n",
              "  </tbody>\n",
              "</table>\n",
              "</div>\n",
              "      <button class=\"colab-df-convert\" onclick=\"convertToInteractive('df-3d976b20-2ce6-4e68-9b73-415c0d5674a4')\"\n",
              "              title=\"Convert this dataframe to an interactive table.\"\n",
              "              style=\"display:none;\">\n",
              "        \n",
              "  <svg xmlns=\"http://www.w3.org/2000/svg\" height=\"24px\"viewBox=\"0 0 24 24\"\n",
              "       width=\"24px\">\n",
              "    <path d=\"M0 0h24v24H0V0z\" fill=\"none\"/>\n",
              "    <path d=\"M18.56 5.44l.94 2.06.94-2.06 2.06-.94-2.06-.94-.94-2.06-.94 2.06-2.06.94zm-11 1L8.5 8.5l.94-2.06 2.06-.94-2.06-.94L8.5 2.5l-.94 2.06-2.06.94zm10 10l.94 2.06.94-2.06 2.06-.94-2.06-.94-.94-2.06-.94 2.06-2.06.94z\"/><path d=\"M17.41 7.96l-1.37-1.37c-.4-.4-.92-.59-1.43-.59-.52 0-1.04.2-1.43.59L10.3 9.45l-7.72 7.72c-.78.78-.78 2.05 0 2.83L4 21.41c.39.39.9.59 1.41.59.51 0 1.02-.2 1.41-.59l7.78-7.78 2.81-2.81c.8-.78.8-2.07 0-2.86zM5.41 20L4 18.59l7.72-7.72 1.47 1.35L5.41 20z\"/>\n",
              "  </svg>\n",
              "      </button>\n",
              "      \n",
              "  <style>\n",
              "    .colab-df-container {\n",
              "      display:flex;\n",
              "      flex-wrap:wrap;\n",
              "      gap: 12px;\n",
              "    }\n",
              "\n",
              "    .colab-df-convert {\n",
              "      background-color: #E8F0FE;\n",
              "      border: none;\n",
              "      border-radius: 50%;\n",
              "      cursor: pointer;\n",
              "      display: none;\n",
              "      fill: #1967D2;\n",
              "      height: 32px;\n",
              "      padding: 0 0 0 0;\n",
              "      width: 32px;\n",
              "    }\n",
              "\n",
              "    .colab-df-convert:hover {\n",
              "      background-color: #E2EBFA;\n",
              "      box-shadow: 0px 1px 2px rgba(60, 64, 67, 0.3), 0px 1px 3px 1px rgba(60, 64, 67, 0.15);\n",
              "      fill: #174EA6;\n",
              "    }\n",
              "\n",
              "    [theme=dark] .colab-df-convert {\n",
              "      background-color: #3B4455;\n",
              "      fill: #D2E3FC;\n",
              "    }\n",
              "\n",
              "    [theme=dark] .colab-df-convert:hover {\n",
              "      background-color: #434B5C;\n",
              "      box-shadow: 0px 1px 3px 1px rgba(0, 0, 0, 0.15);\n",
              "      filter: drop-shadow(0px 1px 2px rgba(0, 0, 0, 0.3));\n",
              "      fill: #FFFFFF;\n",
              "    }\n",
              "  </style>\n",
              "\n",
              "      <script>\n",
              "        const buttonEl =\n",
              "          document.querySelector('#df-3d976b20-2ce6-4e68-9b73-415c0d5674a4 button.colab-df-convert');\n",
              "        buttonEl.style.display =\n",
              "          google.colab.kernel.accessAllowed ? 'block' : 'none';\n",
              "\n",
              "        async function convertToInteractive(key) {\n",
              "          const element = document.querySelector('#df-3d976b20-2ce6-4e68-9b73-415c0d5674a4');\n",
              "          const dataTable =\n",
              "            await google.colab.kernel.invokeFunction('convertToInteractive',\n",
              "                                                     [key], {});\n",
              "          if (!dataTable) return;\n",
              "\n",
              "          const docLinkHtml = 'Like what you see? Visit the ' +\n",
              "            '<a target=\"_blank\" href=https://colab.research.google.com/notebooks/data_table.ipynb>data table notebook</a>'\n",
              "            + ' to learn more about interactive tables.';\n",
              "          element.innerHTML = '';\n",
              "          dataTable['output_type'] = 'display_data';\n",
              "          await google.colab.output.renderOutput(dataTable, element);\n",
              "          const docLink = document.createElement('div');\n",
              "          docLink.innerHTML = docLinkHtml;\n",
              "          element.appendChild(docLink);\n",
              "        }\n",
              "      </script>\n",
              "    </div>\n",
              "  </div>\n",
              "  "
            ]
          },
          "metadata": {},
          "execution_count": 13
        }
      ]
    },
    {
      "cell_type": "code",
      "source": [
        "df1['Resumen Procesado'][0]"
      ],
      "metadata": {
        "colab": {
          "base_uri": "https://localhost:8080/",
          "height": 35
        },
        "id": "eUS9B3iwCKLw",
        "outputId": "136e62f0-2c70-4743-fb18-5241bfadc7ea"
      },
      "execution_count": null,
      "outputs": [
        {
          "output_type": "execute_result",
          "data": {
            "text/plain": [
              "'los reproductores música zune dejan funcionar noche año nuevo mientras microsoft afirma normalizará enero'"
            ],
            "application/vnd.google.colaboratory.intrinsic+json": {
              "type": "string"
            }
          },
          "metadata": {},
          "execution_count": 14
        }
      ]
    },
    {
      "cell_type": "code",
      "source": [
        "Longitud=[]\n",
        "for i in df1['Noticia']:\n",
        "   Longitud.append(len(i.split()))\n",
        "\n",
        "df1['Longitud Noticia']=Longitud"
      ],
      "metadata": {
        "id": "mQ49f8pH0SoU"
      },
      "execution_count": null,
      "outputs": []
    },
    {
      "cell_type": "code",
      "source": [
        "Longitud2=[]\n",
        "for i in df1['Resumen Procesado']:\n",
        "   Longitud2.append(len(i.split()))\n",
        "\n",
        "df1['Longitud Resumen']=Longitud2"
      ],
      "metadata": {
        "id": "v_ABLG5jA4mN"
      },
      "execution_count": null,
      "outputs": []
    },
    {
      "cell_type": "code",
      "source": [
        "df1.head()"
      ],
      "metadata": {
        "colab": {
          "base_uri": "https://localhost:8080/",
          "height": 206
        },
        "id": "C-rLU2j71Sbo",
        "outputId": "b543e0a6-aede-4ea6-a8f3-45401f47425a"
      },
      "execution_count": null,
      "outputs": [
        {
          "output_type": "execute_result",
          "data": {
            "text/plain": [
              "                                             Noticia  \\\n",
              "0  fallan reproductores zune microsoft en año nue...   \n",
              "1  san cadillase pasan trabajadores mientras hoy ...   \n",
              "2  aleph cero materia antimateriaen principio luz...   \n",
              "3  gaceta del ángel yo macho quantecedentes día a...   \n",
              "4  circuito interiorunos tristes contentos los qu...   \n",
              "\n",
              "                                    Resumen Original  \\\n",
              "0  Los reproductores de música Zune dejan de func...   \n",
              "1  Se pasan de trabajadores\\n \\nMientras hoy uste...   \n",
              "2  En el Principio eran la luz, la materia y la a...   \n",
              "3  ANTECEDENTES: el día de ayer, mientras confecc...   \n",
              "4  Unos tristes, otros contentos\\n \\n \\nLOS QUE a...   \n",
              "\n",
              "                                   Resumen Procesado  Longitud Noticia  \\\n",
              "0  los reproductores música zune dejan funcionar ...               143   \n",
              "1  se pasan trabajadores mientras hoy usted tempr...               358   \n",
              "2  en principio luz materia antimateria luego mat...               340   \n",
              "3  antecedentes día ayer mientras confeccionaba c...               363   \n",
              "4  unos tristes contentos los que andan plano cap...               179   \n",
              "\n",
              "   Longitud Resumen  \n",
              "0                14  \n",
              "1                15  \n",
              "2                12  \n",
              "3                16  \n",
              "4                14  "
            ],
            "text/html": [
              "\n",
              "  <div id=\"df-d50a3c8f-4f02-446b-acd5-db467e943ff2\">\n",
              "    <div class=\"colab-df-container\">\n",
              "      <div>\n",
              "<style scoped>\n",
              "    .dataframe tbody tr th:only-of-type {\n",
              "        vertical-align: middle;\n",
              "    }\n",
              "\n",
              "    .dataframe tbody tr th {\n",
              "        vertical-align: top;\n",
              "    }\n",
              "\n",
              "    .dataframe thead th {\n",
              "        text-align: right;\n",
              "    }\n",
              "</style>\n",
              "<table border=\"1\" class=\"dataframe\">\n",
              "  <thead>\n",
              "    <tr style=\"text-align: right;\">\n",
              "      <th></th>\n",
              "      <th>Noticia</th>\n",
              "      <th>Resumen Original</th>\n",
              "      <th>Resumen Procesado</th>\n",
              "      <th>Longitud Noticia</th>\n",
              "      <th>Longitud Resumen</th>\n",
              "    </tr>\n",
              "  </thead>\n",
              "  <tbody>\n",
              "    <tr>\n",
              "      <th>0</th>\n",
              "      <td>fallan reproductores zune microsoft en año nue...</td>\n",
              "      <td>Los reproductores de música Zune dejan de func...</td>\n",
              "      <td>los reproductores música zune dejan funcionar ...</td>\n",
              "      <td>143</td>\n",
              "      <td>14</td>\n",
              "    </tr>\n",
              "    <tr>\n",
              "      <th>1</th>\n",
              "      <td>san cadillase pasan trabajadores mientras hoy ...</td>\n",
              "      <td>Se pasan de trabajadores\\n \\nMientras hoy uste...</td>\n",
              "      <td>se pasan trabajadores mientras hoy usted tempr...</td>\n",
              "      <td>358</td>\n",
              "      <td>15</td>\n",
              "    </tr>\n",
              "    <tr>\n",
              "      <th>2</th>\n",
              "      <td>aleph cero materia antimateriaen principio luz...</td>\n",
              "      <td>En el Principio eran la luz, la materia y la a...</td>\n",
              "      <td>en principio luz materia antimateria luego mat...</td>\n",
              "      <td>340</td>\n",
              "      <td>12</td>\n",
              "    </tr>\n",
              "    <tr>\n",
              "      <th>3</th>\n",
              "      <td>gaceta del ángel yo macho quantecedentes día a...</td>\n",
              "      <td>ANTECEDENTES: el día de ayer, mientras confecc...</td>\n",
              "      <td>antecedentes día ayer mientras confeccionaba c...</td>\n",
              "      <td>363</td>\n",
              "      <td>16</td>\n",
              "    </tr>\n",
              "    <tr>\n",
              "      <th>4</th>\n",
              "      <td>circuito interiorunos tristes contentos los qu...</td>\n",
              "      <td>Unos tristes, otros contentos\\n \\n \\nLOS QUE a...</td>\n",
              "      <td>unos tristes contentos los que andan plano cap...</td>\n",
              "      <td>179</td>\n",
              "      <td>14</td>\n",
              "    </tr>\n",
              "  </tbody>\n",
              "</table>\n",
              "</div>\n",
              "      <button class=\"colab-df-convert\" onclick=\"convertToInteractive('df-d50a3c8f-4f02-446b-acd5-db467e943ff2')\"\n",
              "              title=\"Convert this dataframe to an interactive table.\"\n",
              "              style=\"display:none;\">\n",
              "        \n",
              "  <svg xmlns=\"http://www.w3.org/2000/svg\" height=\"24px\"viewBox=\"0 0 24 24\"\n",
              "       width=\"24px\">\n",
              "    <path d=\"M0 0h24v24H0V0z\" fill=\"none\"/>\n",
              "    <path d=\"M18.56 5.44l.94 2.06.94-2.06 2.06-.94-2.06-.94-.94-2.06-.94 2.06-2.06.94zm-11 1L8.5 8.5l.94-2.06 2.06-.94-2.06-.94L8.5 2.5l-.94 2.06-2.06.94zm10 10l.94 2.06.94-2.06 2.06-.94-2.06-.94-.94-2.06-.94 2.06-2.06.94z\"/><path d=\"M17.41 7.96l-1.37-1.37c-.4-.4-.92-.59-1.43-.59-.52 0-1.04.2-1.43.59L10.3 9.45l-7.72 7.72c-.78.78-.78 2.05 0 2.83L4 21.41c.39.39.9.59 1.41.59.51 0 1.02-.2 1.41-.59l7.78-7.78 2.81-2.81c.8-.78.8-2.07 0-2.86zM5.41 20L4 18.59l7.72-7.72 1.47 1.35L5.41 20z\"/>\n",
              "  </svg>\n",
              "      </button>\n",
              "      \n",
              "  <style>\n",
              "    .colab-df-container {\n",
              "      display:flex;\n",
              "      flex-wrap:wrap;\n",
              "      gap: 12px;\n",
              "    }\n",
              "\n",
              "    .colab-df-convert {\n",
              "      background-color: #E8F0FE;\n",
              "      border: none;\n",
              "      border-radius: 50%;\n",
              "      cursor: pointer;\n",
              "      display: none;\n",
              "      fill: #1967D2;\n",
              "      height: 32px;\n",
              "      padding: 0 0 0 0;\n",
              "      width: 32px;\n",
              "    }\n",
              "\n",
              "    .colab-df-convert:hover {\n",
              "      background-color: #E2EBFA;\n",
              "      box-shadow: 0px 1px 2px rgba(60, 64, 67, 0.3), 0px 1px 3px 1px rgba(60, 64, 67, 0.15);\n",
              "      fill: #174EA6;\n",
              "    }\n",
              "\n",
              "    [theme=dark] .colab-df-convert {\n",
              "      background-color: #3B4455;\n",
              "      fill: #D2E3FC;\n",
              "    }\n",
              "\n",
              "    [theme=dark] .colab-df-convert:hover {\n",
              "      background-color: #434B5C;\n",
              "      box-shadow: 0px 1px 3px 1px rgba(0, 0, 0, 0.15);\n",
              "      filter: drop-shadow(0px 1px 2px rgba(0, 0, 0, 0.3));\n",
              "      fill: #FFFFFF;\n",
              "    }\n",
              "  </style>\n",
              "\n",
              "      <script>\n",
              "        const buttonEl =\n",
              "          document.querySelector('#df-d50a3c8f-4f02-446b-acd5-db467e943ff2 button.colab-df-convert');\n",
              "        buttonEl.style.display =\n",
              "          google.colab.kernel.accessAllowed ? 'block' : 'none';\n",
              "\n",
              "        async function convertToInteractive(key) {\n",
              "          const element = document.querySelector('#df-d50a3c8f-4f02-446b-acd5-db467e943ff2');\n",
              "          const dataTable =\n",
              "            await google.colab.kernel.invokeFunction('convertToInteractive',\n",
              "                                                     [key], {});\n",
              "          if (!dataTable) return;\n",
              "\n",
              "          const docLinkHtml = 'Like what you see? Visit the ' +\n",
              "            '<a target=\"_blank\" href=https://colab.research.google.com/notebooks/data_table.ipynb>data table notebook</a>'\n",
              "            + ' to learn more about interactive tables.';\n",
              "          element.innerHTML = '';\n",
              "          dataTable['output_type'] = 'display_data';\n",
              "          await google.colab.output.renderOutput(dataTable, element);\n",
              "          const docLink = document.createElement('div');\n",
              "          docLink.innerHTML = docLinkHtml;\n",
              "          element.appendChild(docLink);\n",
              "        }\n",
              "      </script>\n",
              "    </div>\n",
              "  </div>\n",
              "  "
            ]
          },
          "metadata": {},
          "execution_count": 17
        }
      ]
    },
    {
      "cell_type": "code",
      "source": [
        "df1.hist(column='Longitud Noticia', bins= [100,200,300,400,500,600,700,800])"
      ],
      "metadata": {
        "colab": {
          "base_uri": "https://localhost:8080/",
          "height": 316
        },
        "id": "a5DcLSkA1Y4U",
        "outputId": "b282c4b0-e8cd-4fcf-b50a-a155350630b7"
      },
      "execution_count": null,
      "outputs": [
        {
          "output_type": "execute_result",
          "data": {
            "text/plain": [
              "array([[<matplotlib.axes._subplots.AxesSubplot object at 0x7f6c3bc278d0>]],\n",
              "      dtype=object)"
            ]
          },
          "metadata": {},
          "execution_count": 18
        },
        {
          "output_type": "display_data",
          "data": {
            "text/plain": [
              "<Figure size 432x288 with 1 Axes>"
            ],
            "image/png": "[encoded data removed]"
          },
          "metadata": {
            "needs_background": "light"
          }
        }
      ]
    },
    {
      "cell_type": "code",
      "source": [
        "df1.hist(column='Longitud Resumen', bins= [2,4,6,8,10,12,14,16,18,20])"
      ],
      "metadata": {
        "colab": {
          "base_uri": "https://localhost:8080/",
          "height": 316
        },
        "id": "erSAi8bqBiU1",
        "outputId": "710f2a68-1c51-44d6-ebc4-de49cd9b3726"
      },
      "execution_count": null,
      "outputs": [
        {
          "output_type": "execute_result",
          "data": {
            "text/plain": [
              "array([[<matplotlib.axes._subplots.AxesSubplot object at 0x7f6c3afdfc50>]],\n",
              "      dtype=object)"
            ]
          },
          "metadata": {},
          "execution_count": 19
        },
        {
          "output_type": "display_data",
          "data": {
            "text/plain": [
              "<Figure size 432x288 with 1 Axes>"
            ],
            "image/png": "[encoded data removed]"
          },
          "metadata": {
            "needs_background": "light"
          }
        }
      ]
    },
    {
      "cell_type": "markdown",
      "source": [
        "Observe que las longitudes con mayores incidencias son aquellas con menos de 200 palabras"
      ],
      "metadata": {
        "id": "yKutOwPE10BD"
      }
    },
    {
      "cell_type": "code",
      "source": [
        "\n",
        "cnt=0\n",
        "for i in df1['Noticia']:\n",
        "    if(len(i.split())<=200):\n",
        "        cnt=cnt+1\n",
        "print(cnt/len(df1['Noticia']))"
      ],
      "metadata": {
        "colab": {
          "base_uri": "https://localhost:8080/"
        },
        "id": "Jk2HH3oDnviZ",
        "outputId": "7d94a650-2227-4aea-917b-3f07f0f92226"
      },
      "execution_count": null,
      "outputs": [
        {
          "output_type": "stream",
          "name": "stdout",
          "text": [
            "0.7367248300155649\n"
          ]
        }
      ]
    },
    {
      "cell_type": "code",
      "source": [
        "Noticiasacotadas=[]\n",
        "Resumenes=[]"
      ],
      "metadata": {
        "id": "vvEmTm3OpEkE"
      },
      "execution_count": null,
      "outputs": []
    },
    {
      "cell_type": "markdown",
      "source": [
        "Veo que toman datos con una longitud maxima, no se si sea lo mejor para el corpus"
      ],
      "metadata": {
        "id": "iprgsszanbh6"
      }
    },
    {
      "cell_type": "code",
      "source": [
        "for i in range(len(df1['Noticia'])):\n",
        "  if((df1['Longitud Noticia'][i])<=200 and df1['Longitud Resumen'][i]<=15):\n",
        "    Noticiasacotadas.append(df1['Noticia'][i])\n",
        "    Resumenes.append(df1['Resumen Procesado'][i])"
      ],
      "metadata": {
        "id": "a9NgrYfyoeeA"
      },
      "execution_count": null,
      "outputs": []
    },
    {
      "cell_type": "code",
      "source": [
        "print(len(Resumenes))\n",
        "print(len(Noticiasacotadas))"
      ],
      "metadata": {
        "colab": {
          "base_uri": "https://localhost:8080/"
        },
        "id": "EouKTvTkpoEv",
        "outputId": "0fba8d8c-cf6d-455e-c33f-caebf567bebd"
      },
      "execution_count": null,
      "outputs": [
        {
          "output_type": "stream",
          "name": "stdout",
          "text": [
            "41213\n",
            "41213\n"
          ]
        }
      ]
    },
    {
      "cell_type": "code",
      "source": [
        "dfinal=pd.DataFrame({'Noticias': Noticiasacotadas, 'Resumenes': Resumenes})\n",
        "dfinal.head()"
      ],
      "metadata": {
        "colab": {
          "base_uri": "https://localhost:8080/",
          "height": 206
        },
        "id": "cstK1SNDqhGC",
        "outputId": "ac753938-8aa5-4da4-f0fc-4533bb536aa3"
      },
      "execution_count": null,
      "outputs": [
        {
          "output_type": "execute_result",
          "data": {
            "text/plain": [
              "                                            Noticias  \\\n",
              "0  fallan reproductores zune microsoft en año nue...   \n",
              "1  circuito interiorunos tristes contentos los qu...   \n",
              "2  la capillamuy movido naucalpan inicio año meno...   \n",
              "3  plaza públicapor vacaciones columna granados c...   \n",
              "4  el lector escribe la felicidad gran mayoría cu...   \n",
              "\n",
              "                                           Resumenes  \n",
              "0  los reproductores música zune dejan funcionar ...  \n",
              "1  unos tristes contentos los que andan plano cap...  \n",
              "2  muy movido naucalpan inicio año menos departam...  \n",
              "3  por vacaciones columna granados chapa volverá ...  \n",
              "4  a gran mayoría cumplen buenos deseos fechas ac...  "
            ],
            "text/html": [
              "\n",
              "  <div id=\"df-d55d62b7-96df-45ab-8448-b056f5a07c40\">\n",
              "    <div class=\"colab-df-container\">\n",
              "      <div>\n",
              "<style scoped>\n",
              "    .dataframe tbody tr th:only-of-type {\n",
              "        vertical-align: middle;\n",
              "    }\n",
              "\n",
              "    .dataframe tbody tr th {\n",
              "        vertical-align: top;\n",
              "    }\n",
              "\n",
              "    .dataframe thead th {\n",
              "        text-align: right;\n",
              "    }\n",
              "</style>\n",
              "<table border=\"1\" class=\"dataframe\">\n",
              "  <thead>\n",
              "    <tr style=\"text-align: right;\">\n",
              "      <th></th>\n",
              "      <th>Noticias</th>\n",
              "      <th>Resumenes</th>\n",
              "    </tr>\n",
              "  </thead>\n",
              "  <tbody>\n",
              "    <tr>\n",
              "      <th>0</th>\n",
              "      <td>fallan reproductores zune microsoft en año nue...</td>\n",
              "      <td>los reproductores música zune dejan funcionar ...</td>\n",
              "    </tr>\n",
              "    <tr>\n",
              "      <th>1</th>\n",
              "      <td>circuito interiorunos tristes contentos los qu...</td>\n",
              "      <td>unos tristes contentos los que andan plano cap...</td>\n",
              "    </tr>\n",
              "    <tr>\n",
              "      <th>2</th>\n",
              "      <td>la capillamuy movido naucalpan inicio año meno...</td>\n",
              "      <td>muy movido naucalpan inicio año menos departam...</td>\n",
              "    </tr>\n",
              "    <tr>\n",
              "      <th>3</th>\n",
              "      <td>plaza públicapor vacaciones columna granados c...</td>\n",
              "      <td>por vacaciones columna granados chapa volverá ...</td>\n",
              "    </tr>\n",
              "    <tr>\n",
              "      <th>4</th>\n",
              "      <td>el lector escribe la felicidad gran mayoría cu...</td>\n",
              "      <td>a gran mayoría cumplen buenos deseos fechas ac...</td>\n",
              "    </tr>\n",
              "  </tbody>\n",
              "</table>\n",
              "</div>\n",
              "      <button class=\"colab-df-convert\" onclick=\"convertToInteractive('df-d55d62b7-96df-45ab-8448-b056f5a07c40')\"\n",
              "              title=\"Convert this dataframe to an interactive table.\"\n",
              "              style=\"display:none;\">\n",
              "        \n",
              "  <svg xmlns=\"http://www.w3.org/2000/svg\" height=\"24px\"viewBox=\"0 0 24 24\"\n",
              "       width=\"24px\">\n",
              "    <path d=\"M0 0h24v24H0V0z\" fill=\"none\"/>\n",
              "    <path d=\"M18.56 5.44l.94 2.06.94-2.06 2.06-.94-2.06-.94-.94-2.06-.94 2.06-2.06.94zm-11 1L8.5 8.5l.94-2.06 2.06-.94-2.06-.94L8.5 2.5l-.94 2.06-2.06.94zm10 10l.94 2.06.94-2.06 2.06-.94-2.06-.94-.94-2.06-.94 2.06-2.06.94z\"/><path d=\"M17.41 7.96l-1.37-1.37c-.4-.4-.92-.59-1.43-.59-.52 0-1.04.2-1.43.59L10.3 9.45l-7.72 7.72c-.78.78-.78 2.05 0 2.83L4 21.41c.39.39.9.59 1.41.59.51 0 1.02-.2 1.41-.59l7.78-7.78 2.81-2.81c.8-.78.8-2.07 0-2.86zM5.41 20L4 18.59l7.72-7.72 1.47 1.35L5.41 20z\"/>\n",
              "  </svg>\n",
              "      </button>\n",
              "      \n",
              "  <style>\n",
              "    .colab-df-container {\n",
              "      display:flex;\n",
              "      flex-wrap:wrap;\n",
              "      gap: 12px;\n",
              "    }\n",
              "\n",
              "    .colab-df-convert {\n",
              "      background-color: #E8F0FE;\n",
              "      border: none;\n",
              "      border-radius: 50%;\n",
              "      cursor: pointer;\n",
              "      display: none;\n",
              "      fill: #1967D2;\n",
              "      height: 32px;\n",
              "      padding: 0 0 0 0;\n",
              "      width: 32px;\n",
              "    }\n",
              "\n",
              "    .colab-df-convert:hover {\n",
              "      background-color: #E2EBFA;\n",
              "      box-shadow: 0px 1px 2px rgba(60, 64, 67, 0.3), 0px 1px 3px 1px rgba(60, 64, 67, 0.15);\n",
              "      fill: #174EA6;\n",
              "    }\n",
              "\n",
              "    [theme=dark] .colab-df-convert {\n",
              "      background-color: #3B4455;\n",
              "      fill: #D2E3FC;\n",
              "    }\n",
              "\n",
              "    [theme=dark] .colab-df-convert:hover {\n",
              "      background-color: #434B5C;\n",
              "      box-shadow: 0px 1px 3px 1px rgba(0, 0, 0, 0.15);\n",
              "      filter: drop-shadow(0px 1px 2px rgba(0, 0, 0, 0.3));\n",
              "      fill: #FFFFFF;\n",
              "    }\n",
              "  </style>\n",
              "\n",
              "      <script>\n",
              "        const buttonEl =\n",
              "          document.querySelector('#df-d55d62b7-96df-45ab-8448-b056f5a07c40 button.colab-df-convert');\n",
              "        buttonEl.style.display =\n",
              "          google.colab.kernel.accessAllowed ? 'block' : 'none';\n",
              "\n",
              "        async function convertToInteractive(key) {\n",
              "          const element = document.querySelector('#df-d55d62b7-96df-45ab-8448-b056f5a07c40');\n",
              "          const dataTable =\n",
              "            await google.colab.kernel.invokeFunction('convertToInteractive',\n",
              "                                                     [key], {});\n",
              "          if (!dataTable) return;\n",
              "\n",
              "          const docLinkHtml = 'Like what you see? Visit the ' +\n",
              "            '<a target=\"_blank\" href=https://colab.research.google.com/notebooks/data_table.ipynb>data table notebook</a>'\n",
              "            + ' to learn more about interactive tables.';\n",
              "          element.innerHTML = '';\n",
              "          dataTable['output_type'] = 'display_data';\n",
              "          await google.colab.output.renderOutput(dataTable, element);\n",
              "          const docLink = document.createElement('div');\n",
              "          docLink.innerHTML = docLinkHtml;\n",
              "          element.appendChild(docLink);\n",
              "        }\n",
              "      </script>\n",
              "    </div>\n",
              "  </div>\n",
              "  "
            ]
          },
          "metadata": {},
          "execution_count": 24
        }
      ]
    },
    {
      "cell_type": "code",
      "source": [
        "#Generamos datos de pureba y entrenamiento\n",
        "from sklearn.model_selection import train_test_split\n",
        "x_train,x_test,y_train,y_test=train_test_split(dfinal['Noticias'],dfinal['Resumenes'],test_size=0.3,random_state=42,shuffle=True) "
      ],
      "metadata": {
        "id": "P3qyXVBzqfLV"
      },
      "execution_count": null,
      "outputs": []
    },
    {
      "cell_type": "markdown",
      "source": [
        "#Creamos un vocabulario/tokens"
      ],
      "metadata": {
        "id": "UynRuXv7sr07"
      }
    },
    {
      "cell_type": "code",
      "source": [
        "SOS_token = 0\n",
        "EOS_token = 1\n",
        "\n",
        "class Lang:\n",
        "    def __init__(self, name):\n",
        "        self.name = name\n",
        "        self.word2index = {}\n",
        "        self.word2count = {}\n",
        "        self.index2word = {0: \"SOS\", 1: \"EOS\"}\n",
        "        self.n_words = 2  # Count SOS and EOS\n",
        "\n",
        "    def addSentence(self, sentence):\n",
        "        for word in sentence.split(' '):\n",
        "            self.addWord(word)\n",
        "\n",
        "    def addWord(self, word):\n",
        "        if word not in self.word2index:\n",
        "            self.word2index[word] = self.n_words\n",
        "            self.word2count[word] = 1\n",
        "            self.index2word[self.n_words] = word\n",
        "            self.n_words += 1\n",
        "        else:\n",
        "            self.word2count[word] += 1"
      ],
      "metadata": {
        "id": "ctOXt59Wsqdw"
      },
      "execution_count": null,
      "outputs": []
    },
    {
      "cell_type": "markdown",
      "source": [],
      "metadata": {
        "id": "1mk7HFoUs7KT"
      }
    },
    {
      "cell_type": "code",
      "source": [
        "def readLangs(text, summary, reverse=False):\n",
        "    print(\"Reading lines...\")\n",
        "    \n",
        "    # Split every line into pairs and normalize\n",
        "    text=np.array(text)\n",
        "    summary=np.array(summary)\n",
        "    pairs = [[text[i],summary[i]] for i in range(len(text))]\n",
        "\n",
        "    # Reverse pairs, make Lang instances\n",
        "    if reverse:\n",
        "        pairs = [list(reversed(p)) for p in pairs]\n",
        "        input_lang = Lang(summary)\n",
        "        output_lang = Lang(text)\n",
        "    else:\n",
        "        input_lang = Lang(text)\n",
        "        output_lang = Lang(summary)\n",
        "\n",
        "    return input_lang, output_lang, pairs"
      ],
      "metadata": {
        "id": "70xXdg_6tlc_"
      },
      "execution_count": null,
      "outputs": []
    },
    {
      "cell_type": "markdown",
      "source": [],
      "metadata": {
        "id": "maY8Y3N0u5JP"
      }
    },
    {
      "cell_type": "code",
      "source": [
        "def prepareData(lang1, lang2, reverse=False):\n",
        "    input_lang, output_lang, pairs = readLangs(lang1, lang2, reverse)\n",
        "    print(\"Read %s sentence pairs\" % len(pairs))\n",
        "    print(\"Counting words...\")\n",
        "    for pair in pairs:\n",
        "        input_lang.addSentence(pair[0])\n",
        "        output_lang.addSentence(pair[1])\n",
        "    print(\"Counted words:\")\n",
        "    print(input_lang.name,\"--------------------\", input_lang.n_words)\n",
        "    #print(output_lang.name, output_lang.n_words)\n",
        "    return input_lang, output_lang, pairs"
      ],
      "metadata": {
        "id": "DOTraNTyu28u"
      },
      "execution_count": null,
      "outputs": []
    },
    {
      "cell_type": "code",
      "source": [
        "input_lang, output_lang, pairs = prepareData(x_train, y_train , False)"
      ],
      "metadata": {
        "colab": {
          "base_uri": "https://localhost:8080/"
        },
        "id": "BYqqIvBZxuub",
        "outputId": "029d5749-a317-4405-f90e-d54ccab8defb"
      },
      "execution_count": null,
      "outputs": [
        {
          "output_type": "stream",
          "name": "stdout",
          "text": [
            "Reading lines...\n",
            "Read 28849 sentence pairs\n",
            "Counting words...\n",
            "Counted words:\n",
            "['acusan amlo promover linchamientosvíctor hugo círigo líderes corriente perredista nueva izquierda aseguró martes campaña lleva cabo andrés manuel lópez obrador iztapalapa linchamiento podría provocar actos entrevista diputado local presidente comisión gobierno aldf consideró actitud ex jefe gobierno ingratitud hacia perredistas iztapalapa me parece duda alguna trata acto ingratitud gracias votos dimos iztapalapa ganó lo promoviendo partido clima linchamiento provocando confrontación iztapalapa aseguró últimos días agregó equipo nueva izquierda iztapalapa sufrido agresiones así retiro entrevistaba diputado centro iztapalapa señor acercó gritarle traidor asegurarle votaré clara brugada perredista noche ayer equipo conocieron encuesta preferencias electorales prd sigue cabeza ciento seguido pan ciento tercer lugar pt pri u ciento'\n",
            " 'inician guerreros exponiendo cetrolos guerreros atlántida atlantis último guerrero reforzados negro casas expondrán cinturones acreditan campeones mundiales tercias héctor garza la máscara hijo fantasma arena coliseo guadalajara tercera defensa realice tercia ruda hará ex monarcas despojaron cetro agosto contienda revancha no rival pequeño aunque jóvenes capacidad poder ser campeones guerreros gente experimentada sólo ver nombres das cuenta sabe diablo viejo diablo punto ventaja el domingo sabremos quién mejor preparación tal vez retengamos cinturón plano llegan motivados aprovechen cualquier error nunca puede saber conviene asegurar vas ganar puede quedar mal reconoció ídolo niños aprovechó destacar tras casi mes presentarse arena méxico desea confirmar jerarquía afianzar rudezas además adelantó probable estreno nueva película regresamos méxico muchas ganas trabajo estados unidos frontera anduve gira tiempo podemos dejar trabajar también quiero adelantar finales mes febrero estrenará película atlantis una aventura mágica si fecha pasa primera quincena marzo todo trata trabajo enfrentar crisis económica respondió'\n",
            " 'caen ganancias halliburtonhalliburton segunda mayor compañía global servicios petroleras sufrió caída ciento ganancias segundo trimestre profunda contracción inversión proyectos petróleo gas natural ganancias netas trimestrales disminuyeron millones dólares centavos acción millones dólares centavos título mismo lapso año ingresos cayeron mil millones dólares mil millones dijo compañía excluye cargo millones dólares recortar plantilla empleados halliburton anotó ganancias centavos acción centavos papel anticipaban analistas analistas pronosticado ingresos mil millones mes pasado goldman sachs recortó calificaciones halliburton títulos expuestos gas natural debido persistente debilidad enorme mercado gas viernes baker hughes inc empresa proveedora productos servicios asistencia perforación pozos dijo número torres exploran gas bajó mínimo años'\n",
            " ...\n",
            " 'mata hambre personas guatemala la escasez alimentos causa prolongada sequía provocó muerte personas zonas pobres guatemala mientras presidente álvaro colom analiza decretar calamidad pública hambruna así encarar crisis ayuda monitoreo ministerio salud realizado enero julio pasado país publicado martes prensa local revela total decesos figuran proporcionados propio mandatario guatemalteco indican hambruna afecta mil familias podría arrastrar hambre mil termine programa mundial alimentos pma comenzó martes entrega toneladas galleta nutritiva comunidades afectadas parte colom analiza decretar excepción objetivo paliar crisis afecta cientos comunidades principalmente siete departamentos integran llamado corredor seco ubicado secretario general presidencia carlos larios comentó mandatario podría tomar decisión martes luego analizar propuestas declaratoria calamidad estado podrá concentrar recursos ayuda comprar insumos licitación restringir garantías constitucionales libre calificó situación tragedia dimensión histórica dada extensión población afectada casi toda población pobre país ciento millones gobierno destinará millones dólares promueve comunidad internacional desembolso mayores recursos encarar embajador estados unidos stephen mcfarland dijo recientemente gobernante explicó cuerpo diplomático bases estructurales problema desnutrición país necesita guatemala declare emergencia activar asistencia acuerdo diplomático normalmente países donantes esperan declaración emergencia estimular aumentar recursos hambruna acentuado regiones pobres país debido destrucción cultivos maíz frijol productos constituyen base dieta guatemaltecos'\n",
            " 'reaccionan positivamente bonos plantras anuncio nuevas medidas gobierno federal contrarrestar efectos recesión global hizo presidente felipe calderón mercado bonos mexicanos favorecido el rendimiento bono plazo años ubica ciento descenso plazo años bajó centésimas años centésimas el mercado respondiendo plan anticrisis anunciado felipe calderón medida encaminada ayudar inflación está quitándole pretextos banco méxico recortar tasas dijo presidente felipe calderón anunció congelará precio gasolina reducirá ciento precio gas doméstico además recortar tarifas electricidad ciento industria buen efecto mercado bonos vio bolsa tipo cambio mal dato empleo estados unidos malas noticias sector corporativo pesaron bolsa mexicana valores bmv registra retrocesos ciento ubicarse mil volumen operación mercado mexicano millones dólar cotización interbancaria banamex cotiza pesos centavos cierre previo'\n",
            " 'designan jefa gobierno caraqueñael presidente venezuela hugo chávez anunció martes designación jacqueline faría primera jefa gobierno distrito capital luego creación cargo mediante ley semana dirigió compañía aguas hidrocapital desempeñó ministra ambiente ocupaba ahora puesto presidenta estatal telefonía móvil nueva jefa gobierno caracas vicepresidentas gubernamental partido socialista unido nueva figura eclipsa alcalde metropolitano caracas electo noviembre cuyo despacho perdió competencias presupuesto nueva ley especial organización régimen distrito capital sido duramente criticada actual alcalde metropolitano opositor actual edil metropolitano opositor antonio ledezma introdujo amparo tribunal supremo justicia vez pidió referendo caraqueños decidan nueva figura jefe caracas dividida cinco municipios respectivos gobernantes cuenta alcaldía metropolitana coordina competencias seguridad salud educación elecciones regionales noviembre administración metropolitana caracas ganada socialdemócrata ledezma quedando manos opositor primera vez creada'] -------------------- 122777\n"
          ]
        }
      ]
    },
    {
      "cell_type": "code",
      "source": [
        "pairs[0]"
      ],
      "metadata": {
        "colab": {
          "base_uri": "https://localhost:8080/"
        },
        "id": "quSICPK9x4NQ",
        "outputId": "b157ee6a-bee8-41ee-da72-f95ccefc28bb"
      },
      "execution_count": null,
      "outputs": [
        {
          "output_type": "execute_result",
          "data": {
            "text/plain": [
              "['acusan amlo promover linchamientosvíctor hugo círigo líderes corriente perredista nueva izquierda aseguró martes campaña lleva cabo andrés manuel lópez obrador iztapalapa linchamiento podría provocar actos entrevista diputado local presidente comisión gobierno aldf consideró actitud ex jefe gobierno ingratitud hacia perredistas iztapalapa me parece duda alguna trata acto ingratitud gracias votos dimos iztapalapa ganó lo promoviendo partido clima linchamiento provocando confrontación iztapalapa aseguró últimos días agregó equipo nueva izquierda iztapalapa sufrido agresiones así retiro entrevistaba diputado centro iztapalapa señor acercó gritarle traidor asegurarle votaré clara brugada perredista noche ayer equipo conocieron encuesta preferencias electorales prd sigue cabeza ciento seguido pan ciento tercer lugar pt pri u ciento',\n",
              " 'integrantes nueva izquierda dijeron provocando andrés manuel lópez obrador apoyo clara brugada clima violencia']"
            ]
          },
          "metadata": {},
          "execution_count": 30
        }
      ]
    },
    {
      "cell_type": "code",
      "source": [
        "SOS_token = 0\n",
        "EOS_token = 1"
      ],
      "metadata": {
        "id": "vczfEl5JyJTe"
      },
      "execution_count": null,
      "outputs": []
    },
    {
      "cell_type": "code",
      "source": [
        "def indexesFromSentence(lang, sentence):\n",
        "    return [lang.word2index[word] for word in sentence.split(' ')]\n",
        "\n",
        "def tensorFromSentence(lang, sentence):\n",
        "    indexes = indexesFromSentence(lang, sentence)\n",
        "    indexes.append(EOS_token)\n",
        "    return torch.tensor(indexes, dtype=torch.long, device=device).view(-1, 1)\n",
        "\n",
        "def tensorsFromPair(pair):\n",
        "    input_tensor = tensorFromSentence(input_lang, pair[0])\n",
        "    target_tensor = tensorFromSentence(output_lang, pair[1])\n",
        "    return (input_tensor, target_tensor)"
      ],
      "metadata": {
        "id": "e77mIpavyHSx"
      },
      "execution_count": null,
      "outputs": []
    },
    {
      "cell_type": "code",
      "source": [
        "from __future__ import unicode_literals, print_function, division\n",
        "from io import open\n",
        "import unicodedata\n",
        "import string\n",
        "import re\n",
        "import random\n",
        "\n",
        "import torch\n",
        "import torch.nn as nn\n",
        "from torch import optim\n",
        "import torch.nn.functional as F\n",
        "\n",
        "\n"
      ],
      "metadata": {
        "id": "-U5bwNTUysqi"
      },
      "execution_count": null,
      "outputs": []
    },
    {
      "cell_type": "code",
      "source": [
        "device = torch.device(\"cuda\" if torch.cuda.is_available() else \"cpu\")\n",
        "device"
      ],
      "metadata": {
        "colab": {
          "base_uri": "https://localhost:8080/"
        },
        "id": "O0I0ptw9yxKn",
        "outputId": "e4fb4d9c-b433-4742-f14b-1f0da69c5748"
      },
      "execution_count": null,
      "outputs": [
        {
          "output_type": "execute_result",
          "data": {
            "text/plain": [
              "device(type='cuda')"
            ]
          },
          "metadata": {},
          "execution_count": 34
        }
      ]
    },
    {
      "cell_type": "markdown",
      "source": [
        "Encoder: Lo veremos apenas"
      ],
      "metadata": {
        "id": "27x64DD1zZMm"
      }
    },
    {
      "cell_type": "code",
      "source": [
        "class EncoderRNN(nn.Module):\n",
        "    def __init__(self, input_size, hidden_size):\n",
        "        super(EncoderRNN, self).__init__()\n",
        "        self.hidden_size = hidden_size\n",
        "\n",
        "        self.embedding = nn.Embedding(input_size, hidden_size)\n",
        "        self.gru = nn.GRU(hidden_size, hidden_size)\n",
        "\n",
        "    def forward(self, input, hidden):\n",
        "        embedded = self.embedding(input).view(1, 1, -1)\n",
        "        output = embedded\n",
        "        output, hidden = self.gru(output, hidden)\n",
        "        return output, hidden\n",
        "\n",
        "    def initHidden(self):\n",
        "        return torch.zeros(1, 1, self.hidden_size, device=device)"
      ],
      "metadata": {
        "id": "cDPixFrizSPk"
      },
      "execution_count": null,
      "outputs": []
    },
    {
      "cell_type": "code",
      "source": [
        "class DecoderRNN(nn.Module):\n",
        "    def __init__(self, hidden_size, output_size):\n",
        "        super(DecoderRNN, self).__init__()\n",
        "        self.hidden_size = hidden_size\n",
        "\n",
        "        self.embedding = nn.Embedding(output_size, hidden_size)\n",
        "        self.gru = nn.GRU(hidden_size, hidden_size)\n",
        "        self.out = nn.Linear(hidden_size, output_size)\n",
        "        self.softmax = nn.LogSoftmax(dim=1)\n",
        "\n",
        "    def forward(self, input, hidden):\n",
        "        output = self.embedding(input).view(1, 1, -1)\n",
        "        output = F.relu(output)\n",
        "        output, hidden = self.gru(output, hidden)\n",
        "        output = self.softmax(self.out(output[0]))\n",
        "        return output, hidden\n",
        "\n",
        "    def initHidden(self):\n",
        "        return torch.zeros(1, 1, self.hidden_size, device=device)"
      ],
      "metadata": {
        "id": "snJ7XwNszgjo"
      },
      "execution_count": null,
      "outputs": []
    },
    {
      "cell_type": "code",
      "source": [
        "MAX_LENGTH=150"
      ],
      "metadata": {
        "id": "0ch1w54hzkow"
      },
      "execution_count": null,
      "outputs": []
    },
    {
      "cell_type": "code",
      "source": [
        "class AttnDecoderRNN(nn.Module):\n",
        "    def __init__(self, hidden_size, output_size, dropout_p=0.1, max_length=MAX_LENGTH):\n",
        "        super(AttnDecoderRNN, self).__init__()\n",
        "        self.hidden_size = hidden_size\n",
        "        self.output_size = output_size\n",
        "        self.dropout_p = dropout_p\n",
        "        self.max_length = max_length\n",
        "\n",
        "        self.embedding = nn.Embedding(self.output_size, self.hidden_size)\n",
        "        self.attn = nn.Linear(self.hidden_size * 2, self.max_length)\n",
        "        self.attn_combine = nn.Linear(self.hidden_size * 2, self.hidden_size)\n",
        "        self.dropout = nn.Dropout(self.dropout_p)\n",
        "        self.gru = nn.GRU(self.hidden_size, self.hidden_size)\n",
        "        self.out = nn.Linear(self.hidden_size, self.output_size)\n",
        "\n",
        "    def forward(self, input, hidden, encoder_outputs):\n",
        "        embedded = self.embedding(input).view(1, 1, -1)\n",
        "        embedded = self.dropout(embedded)\n",
        "\n",
        "        attn_weights = F.softmax(\n",
        "            self.attn(torch.cat((embedded[0], hidden[0]), 1)), dim=1)\n",
        "        attn_applied = torch.bmm(attn_weights.unsqueeze(0),\n",
        "                                 encoder_outputs.unsqueeze(0))\n",
        "\n",
        "        output = torch.cat((embedded[0], attn_applied[0]), 1)\n",
        "        output = self.attn_combine(output).unsqueeze(0)\n",
        "\n",
        "        output = F.relu(output)\n",
        "        output, hidden = self.gru(output, hidden)\n",
        "\n",
        "        output = F.log_softmax(self.out(output[0]), dim=1)\n",
        "        return output, hidden, attn_weights\n",
        "\n",
        "    def initHidden(self):\n",
        "        return torch.zeros(1, 1, self.hidden_size, device=device)"
      ],
      "metadata": {
        "id": "2Rz66FlgzqZw"
      },
      "execution_count": null,
      "outputs": []
    },
    {
      "cell_type": "code",
      "source": [
        "#teacher_forcing_ratio = 0.5\n",
        "def train(input_tensor, target_tensor, encoder, decoder, encoder_optimizer, decoder_optimizer, criterion, max_length=MAX_LENGTH):\n",
        "    encoder_hidden = encoder.initHidden()\n",
        "\n",
        "    encoder_optimizer.zero_grad()\n",
        "    decoder_optimizer.zero_grad()\n",
        "\n",
        "    input_length = input_tensor.size(0)\n",
        "    target_length = target_tensor.size(0)\n",
        "\n",
        "    encoder_outputs = torch.zeros(max_length, encoder.hidden_size, device=device)\n",
        "\n",
        "    loss = 0\n",
        "    #print('bbbbbbb-->>> input length', input_length)\n",
        "\n",
        "    for ei in range(input_length):\n",
        "        encoder_output, encoder_hidden = encoder(input_tensor[ei], encoder_hidden)\n",
        "        #print(\"priting before error\")\n",
        "        #print(encoder_output.size())\n",
        "        #print(encoder_outputs.size())\n",
        "        temp = encoder_output[0, 0]\n",
        "        #print(temp)\n",
        "        encoder_outputs[ei] = temp\n",
        "\n",
        "    decoder_input = torch.tensor([[SOS_token]], device=device)\n",
        "\n",
        "    decoder_hidden = encoder_hidden\n",
        "\n",
        "    #use_teacher_forcing = True if random.random() < teacher_forcing_ratio else False\n",
        "    #Without teacher forcing: use its own predictions as the next input\n",
        "\n",
        "    #print('aaaaa-->>>')\n",
        "\n",
        "    for di in range(target_length):\n",
        "      decoder_output, decoder_hidden, decoder_attention = decoder(\n",
        "      decoder_input, decoder_hidden, encoder_outputs)\n",
        "\n",
        "\n",
        "      topv, topi = decoder_output.topk(1)\n",
        "      \n",
        "      decoder_input = topi.squeeze().detach()  # detach from history as input\n",
        "      \n",
        "      loss += criterion(decoder_output, target_tensor[di])\n",
        "      \n",
        "      if decoder_input.item() == EOS_token:\n",
        "             break\n",
        "\n",
        "    loss.backward()\n",
        "\n",
        "    encoder_optimizer.step()\n",
        "    decoder_optimizer.step()\n",
        "\n",
        "    return loss.item() / target_length"
      ],
      "metadata": {
        "id": "xXztApzAzsR0"
      },
      "execution_count": null,
      "outputs": []
    },
    {
      "cell_type": "code",
      "source": [
        "import time\n",
        "import math\n",
        "\n",
        "\n",
        "def asMinutes(s):\n",
        "    m = math.floor(s / 60)\n",
        "    s -= m * 60\n",
        "    return '%dm %ds' % (m, s)\n",
        "\n",
        "\n",
        "def timeSince(since, percent):\n",
        "    now = time.time()\n",
        "    s = now - since\n",
        "    es = s / (percent)\n",
        "    rs = es - s\n",
        "    return '%s (- %s)' % (asMinutes(s), asMinutes(rs))"
      ],
      "metadata": {
        "id": "AhThtQEQz_1q"
      },
      "execution_count": null,
      "outputs": []
    },
    {
      "cell_type": "code",
      "source": [
        "import matplotlib.pyplot as plt\n",
        "plt.switch_backend('agg')\n",
        "import matplotlib.ticker as ticker\n",
        "import numpy as np\n",
        "\n",
        "\n",
        "def showPlot(points):\n",
        "    plt.figure()\n",
        "    fig, ax = plt.subplots()\n",
        "    # this locator puts ticks at regular intervals\n",
        "    loc = ticker.MultipleLocator(base=0.2)\n",
        "    ax.yaxis.set_major_locator(loc)\n",
        "    plt.plot(points)"
      ],
      "metadata": {
        "id": "U3i3FgEv0BgZ"
      },
      "execution_count": null,
      "outputs": []
    },
    {
      "cell_type": "code",
      "source": [
        "def trainIters(encoder, decoder, n_iters, print_every=1000, plot_every=100, learning_rate=0.01):\n",
        "    print(\"Training....\")\n",
        "    start = time.time()\n",
        "    plot_losses = []\n",
        "    print_loss_total = 0  # Reset every print_every\n",
        "    plot_loss_total = 0  # Reset every plot_every\n",
        "\n",
        "    encoder_optimizer = optim.SGD(encoder.parameters(), lr=learning_rate)\n",
        "    decoder_optimizer = optim.SGD(decoder.parameters(), lr=learning_rate)\n",
        "    training_pairs = [tensorsFromPair(random.choice(pairs))\n",
        "                      for i in range(n_iters)]\n",
        "    criterion = nn.NLLLoss()\n",
        "\n",
        "    for iter in range(1, n_iters + 1):\n",
        "        if iter% 1000 == 0:\n",
        "            print(iter,\"/\",n_iters + 1)\n",
        "        training_pair = training_pairs[iter - 1]\n",
        "        input_tensor = training_pair[0]\n",
        "        target_tensor = training_pair[1]\n",
        "\n",
        "        input_length = input_tensor.size(0)\n",
        "        if(input_length > 150):\n",
        "          #print(input_length)\n",
        "          continue\n",
        "      \n",
        "        loss = train(input_tensor, target_tensor, encoder,decoder, encoder_optimizer, decoder_optimizer, criterion)\n",
        "        print_loss_total += loss\n",
        "        plot_loss_total += loss\n",
        "\n",
        "        if iter % print_every == 0:\n",
        "            print_loss_avg = print_loss_total / print_every\n",
        "            print_loss_total = 0\n",
        "            print('%s (%d %d%%) %.4f' % (timeSince(start, iter / n_iters),\n",
        "                                         iter, iter / n_iters * 100, print_loss_avg))\n",
        "\n",
        "        if iter % plot_every == 0:\n",
        "            plot_loss_avg = plot_loss_total / plot_every\n",
        "            plot_losses.append(plot_loss_avg)\n",
        "            plot_loss_total = 0\n",
        "\n",
        "    showPlot(plot_losses)"
      ],
      "metadata": {
        "id": "A-gbrXtd0D14"
      },
      "execution_count": null,
      "outputs": []
    },
    {
      "cell_type": "code",
      "source": [
        "def evaluate(encoder, decoder, sentence, max_length=MAX_LENGTH):\n",
        "    with torch.no_grad():\n",
        "        input_tensor = tensorFromSentence(input_lang, sentence)\n",
        "        input_length = input_tensor.size()[0]\n",
        "        encoder_hidden = encoder.initHidden()\n",
        "\n",
        "        encoder_outputs = torch.zeros(max_length, encoder.hidden_size, device=device)\n",
        "\n",
        "        for ei in range(input_length):\n",
        "            encoder_output, encoder_hidden = encoder(input_tensor[ei],encoder_hidden)\n",
        "            encoder_outputs[ei] += encoder_output[0, 0]\n",
        "\n",
        "        decoder_input = torch.tensor([[SOS_token]], device=device)  # SOS\n",
        "\n",
        "        decoder_hidden = encoder_hidden\n",
        "\n",
        "        decoded_words = []\n",
        "        decoder_attentions = torch.zeros(max_length, max_length)\n",
        "\n",
        "        #print('cccccc->>>>')\n",
        "\n",
        "        for di in range(max_length):\n",
        "            decoder_output, decoder_hidden, decoder_attention = decoder(\n",
        "                decoder_input, decoder_hidden, encoder_outputs)\n",
        "            decoder_attentions[di] = decoder_attention.data\n",
        "            topv, topi = decoder_output.data.topk(1)\n",
        "            if topi.item() == EOS_token:\n",
        "                decoded_words.append('<EOS>')\n",
        "                break\n",
        "            else:\n",
        "                decoded_words.append(output_lang.index2word[topi.item()])\n",
        "\n",
        "            decoder_input = topi.squeeze().detach()\n",
        "\n",
        "        return decoded_words, decoder_attentions[:di + 1]"
      ],
      "metadata": {
        "id": "9LahQIb30OtF"
      },
      "execution_count": null,
      "outputs": []
    },
    {
      "cell_type": "code",
      "source": [
        "def evaluateRandomly(encoder, decoder, n=5):\n",
        "    text=list()\n",
        "    headline=list()\n",
        "    pred_headline=list()    \n",
        "    for i in range(n):\n",
        "        pair = random.choice(pairs)\n",
        "        \n",
        "        if(len(pair[0].split())>=150):\n",
        "          continue\n",
        "        else:\n",
        "          if(i%1000==0):\n",
        "            print(i*100/n,\"% complete\")\n",
        "          \n",
        "          #print('>', pair[0])\n",
        "          text.append(pair[0])\n",
        "          #print('=', pair[1])\n",
        "          headline.append(pair[1])\n",
        "          output_words, attentions = evaluate(encoder, decoder, pair[0])\n",
        "          output_sentence = ' '.join(output_words)\n",
        "          pred_headline.append(output_sentence)\n",
        "          #print('<', output_sentence)\n",
        "          #print('')\n",
        "    return(text,headline,pred_headline)"
      ],
      "metadata": {
        "id": "VoXkVwh10TfR"
      },
      "execution_count": null,
      "outputs": []
    },
    {
      "cell_type": "code",
      "source": [
        "#Entrenamineto:\n",
        "hidden_size = 200\n",
        "encoder1 = EncoderRNN(input_lang.n_words, hidden_size).to(device)\n",
        "attn_decoder1 = AttnDecoderRNN(hidden_size, output_lang.n_words, dropout_p=0.1).to(device)\n",
        "\n",
        "trainIters(encoder1, attn_decoder1, 200000, print_every=1000)"
      ],
      "metadata": {
        "id": "iP0ti_kn0WE_"
      },
      "execution_count": null,
      "outputs": []
    },
    {
      "cell_type": "code",
      "source": [
        "text,headline,pred_headline=evaluateRandomly(encoder1, attn_decoder1,15000)"
      ],
      "metadata": {
        "colab": {
          "base_uri": "https://localhost:8080/"
        },
        "id": "XTBYKylDGs4C",
        "outputId": "b0e4b9dc-1623-4af9-afab-669a39e42c80"
      },
      "execution_count": null,
      "outputs": [
        {
          "output_type": "stream",
          "name": "stdout",
          "text": [
            "0.0 % complete\n",
            "6.666666666666667 % complete\n",
            "26.666666666666668 % complete\n",
            "33.333333333333336 % complete\n",
            "40.0 % complete\n",
            "46.666666666666664 % complete\n",
            "60.0 % complete\n",
            "73.33333333333333 % complete\n",
            "86.66666666666667 % complete\n"
          ]
        }
      ]
    },
    {
      "cell_type": "code",
      "source": [
        "torch.save(encoder1.state_dict(), '/content/drive/MyDrive/EncoderGRUFalta.w')\n",
        "torch.save(attn_decoder1.state_dict(), '/content/drive/MyDrive/AttDecGRUFalta.w')"
      ],
      "metadata": {
        "id": "dIapTsOJR8Be"
      },
      "execution_count": null,
      "outputs": []
    },
    {
      "cell_type": "code",
      "source": [
        "text,headline,pred_headline=evaluateRandomly(encoder2, attn_decoder2,15000)"
      ],
      "metadata": {
        "colab": {
          "base_uri": "https://localhost:8080/"
        },
        "id": "4UziGNThJsc-",
        "outputId": "7a709bf5-57d6-4cdb-ab63-504ed78cf726"
      },
      "execution_count": null,
      "outputs": [
        {
          "output_type": "stream",
          "name": "stdout",
          "text": [
            "0.0 % complete\n",
            "20.0 % complete\n",
            "40.0 % complete\n",
            "53.333333333333336 % complete\n",
            "60.0 % complete\n",
            "66.66666666666667 % complete\n",
            "86.66666666666667 % complete\n",
            "93.33333333333333 % complete\n"
          ]
        }
      ]
    },
    {
      "cell_type": "code",
      "source": [
        "pred_df_GRU=pd.DataFrame()\n",
        "pred_df_GRU['Noticias']=text\n",
        "pred_df_GRU['Resumenes']=headline\n",
        "pred_df_GRU['ResumenNew']=pred_headline\n",
        "pred_df_GRU.to_csv('/content/drive/MyDrive/BaseGRUFalta.csv')"
      ],
      "metadata": {
        "id": "GJYWqAbuI1_t"
      },
      "execution_count": null,
      "outputs": []
    },
    {
      "cell_type": "code",
      "source": [
        "pred_df_GRU.head()"
      ],
      "metadata": {
        "colab": {
          "base_uri": "https://localhost:8080/",
          "height": 206
        },
        "id": "0SbswHIEIg_A",
        "outputId": "125b9fb2-58eb-4f4b-827f-95780b1d153e"
      },
      "execution_count": null,
      "outputs": [
        {
          "output_type": "execute_result",
          "data": {
            "text/plain": [
              "                                            Noticias  \\\n",
              "0  dan tierras mil cubanos más mil personas cuba ...   \n",
              "1  ayudan leo kate pasajera titanicleonardo dicap...   \n",
              "2  dicha familia lo voy consentir demás nietos ed...   \n",
              "3  quiere arsenal wengerel arsenal ofreció quedar...   \n",
              "4  falla entrega fuente tecamachalcola administra...   \n",
              "\n",
              "                                           Resumenes  \\\n",
              "0  más mil personas cuba recibieron tierras usufr...   \n",
              "1  leonardo dicaprio kate winslet comprometieron ...   \n",
              "2  kristen giménez alexandro oléa reúnen seres qu...   \n",
              "3  el nuevo dirigente equipo ivan gazidis declaró...   \n",
              "4  trabajadores naucalpan estiman glorieta monume...   \n",
              "\n",
              "                                          ResumenNew  \n",
              "0  más mil mil personas año año personas año segú...  \n",
              "1  el grupo lanzó lanzó celebran celebran grupo g...  \n",
              "2          el oléa jorge oléa hijo ex queridos <EOS>  \n",
              "3  el delantero reconoció deportivo dijo equipo e...  \n",
              "4  el alcalde josé ángel ángel ángel ángel luego ...  "
            ],
            "text/html": [
              "\n",
              "  <div id=\"df-1baad7c8-3310-44d3-aa82-92495ab27d6e\">\n",
              "    <div class=\"colab-df-container\">\n",
              "      <div>\n",
              "<style scoped>\n",
              "    .dataframe tbody tr th:only-of-type {\n",
              "        vertical-align: middle;\n",
              "    }\n",
              "\n",
              "    .dataframe tbody tr th {\n",
              "        vertical-align: top;\n",
              "    }\n",
              "\n",
              "    .dataframe thead th {\n",
              "        text-align: right;\n",
              "    }\n",
              "</style>\n",
              "<table border=\"1\" class=\"dataframe\">\n",
              "  <thead>\n",
              "    <tr style=\"text-align: right;\">\n",
              "      <th></th>\n",
              "      <th>Noticias</th>\n",
              "      <th>Resumenes</th>\n",
              "      <th>ResumenNew</th>\n",
              "    </tr>\n",
              "  </thead>\n",
              "  <tbody>\n",
              "    <tr>\n",
              "      <th>0</th>\n",
              "      <td>dan tierras mil cubanos más mil personas cuba ...</td>\n",
              "      <td>más mil personas cuba recibieron tierras usufr...</td>\n",
              "      <td>más mil mil personas año año personas año segú...</td>\n",
              "    </tr>\n",
              "    <tr>\n",
              "      <th>1</th>\n",
              "      <td>ayudan leo kate pasajera titanicleonardo dicap...</td>\n",
              "      <td>leonardo dicaprio kate winslet comprometieron ...</td>\n",
              "      <td>el grupo lanzó lanzó celebran celebran grupo g...</td>\n",
              "    </tr>\n",
              "    <tr>\n",
              "      <th>2</th>\n",
              "      <td>dicha familia lo voy consentir demás nietos ed...</td>\n",
              "      <td>kristen giménez alexandro oléa reúnen seres qu...</td>\n",
              "      <td>el oléa jorge oléa hijo ex queridos &lt;EOS&gt;</td>\n",
              "    </tr>\n",
              "    <tr>\n",
              "      <th>3</th>\n",
              "      <td>quiere arsenal wengerel arsenal ofreció quedar...</td>\n",
              "      <td>el nuevo dirigente equipo ivan gazidis declaró...</td>\n",
              "      <td>el delantero reconoció deportivo dijo equipo e...</td>\n",
              "    </tr>\n",
              "    <tr>\n",
              "      <th>4</th>\n",
              "      <td>falla entrega fuente tecamachalcola administra...</td>\n",
              "      <td>trabajadores naucalpan estiman glorieta monume...</td>\n",
              "      <td>el alcalde josé ángel ángel ángel ángel luego ...</td>\n",
              "    </tr>\n",
              "  </tbody>\n",
              "</table>\n",
              "</div>\n",
              "      <button class=\"colab-df-convert\" onclick=\"convertToInteractive('df-1baad7c8-3310-44d3-aa82-92495ab27d6e')\"\n",
              "              title=\"Convert this dataframe to an interactive table.\"\n",
              "              style=\"display:none;\">\n",
              "        \n",
              "  <svg xmlns=\"http://www.w3.org/2000/svg\" height=\"24px\"viewBox=\"0 0 24 24\"\n",
              "       width=\"24px\">\n",
              "    <path d=\"M0 0h24v24H0V0z\" fill=\"none\"/>\n",
              "    <path d=\"M18.56 5.44l.94 2.06.94-2.06 2.06-.94-2.06-.94-.94-2.06-.94 2.06-2.06.94zm-11 1L8.5 8.5l.94-2.06 2.06-.94-2.06-.94L8.5 2.5l-.94 2.06-2.06.94zm10 10l.94 2.06.94-2.06 2.06-.94-2.06-.94-.94-2.06-.94 2.06-2.06.94z\"/><path d=\"M17.41 7.96l-1.37-1.37c-.4-.4-.92-.59-1.43-.59-.52 0-1.04.2-1.43.59L10.3 9.45l-7.72 7.72c-.78.78-.78 2.05 0 2.83L4 21.41c.39.39.9.59 1.41.59.51 0 1.02-.2 1.41-.59l7.78-7.78 2.81-2.81c.8-.78.8-2.07 0-2.86zM5.41 20L4 18.59l7.72-7.72 1.47 1.35L5.41 20z\"/>\n",
              "  </svg>\n",
              "      </button>\n",
              "      \n",
              "  <style>\n",
              "    .colab-df-container {\n",
              "      display:flex;\n",
              "      flex-wrap:wrap;\n",
              "      gap: 12px;\n",
              "    }\n",
              "\n",
              "    .colab-df-convert {\n",
              "      background-color: #E8F0FE;\n",
              "      border: none;\n",
              "      border-radius: 50%;\n",
              "      cursor: pointer;\n",
              "      display: none;\n",
              "      fill: #1967D2;\n",
              "      height: 32px;\n",
              "      padding: 0 0 0 0;\n",
              "      width: 32px;\n",
              "    }\n",
              "\n",
              "    .colab-df-convert:hover {\n",
              "      background-color: #E2EBFA;\n",
              "      box-shadow: 0px 1px 2px rgba(60, 64, 67, 0.3), 0px 1px 3px 1px rgba(60, 64, 67, 0.15);\n",
              "      fill: #174EA6;\n",
              "    }\n",
              "\n",
              "    [theme=dark] .colab-df-convert {\n",
              "      background-color: #3B4455;\n",
              "      fill: #D2E3FC;\n",
              "    }\n",
              "\n",
              "    [theme=dark] .colab-df-convert:hover {\n",
              "      background-color: #434B5C;\n",
              "      box-shadow: 0px 1px 3px 1px rgba(0, 0, 0, 0.15);\n",
              "      filter: drop-shadow(0px 1px 2px rgba(0, 0, 0, 0.3));\n",
              "      fill: #FFFFFF;\n",
              "    }\n",
              "  </style>\n",
              "\n",
              "      <script>\n",
              "        const buttonEl =\n",
              "          document.querySelector('#df-1baad7c8-3310-44d3-aa82-92495ab27d6e button.colab-df-convert');\n",
              "        buttonEl.style.display =\n",
              "          google.colab.kernel.accessAllowed ? 'block' : 'none';\n",
              "\n",
              "        async function convertToInteractive(key) {\n",
              "          const element = document.querySelector('#df-1baad7c8-3310-44d3-aa82-92495ab27d6e');\n",
              "          const dataTable =\n",
              "            await google.colab.kernel.invokeFunction('convertToInteractive',\n",
              "                                                     [key], {});\n",
              "          if (!dataTable) return;\n",
              "\n",
              "          const docLinkHtml = 'Like what you see? Visit the ' +\n",
              "            '<a target=\"_blank\" href=https://colab.research.google.com/notebooks/data_table.ipynb>data table notebook</a>'\n",
              "            + ' to learn more about interactive tables.';\n",
              "          element.innerHTML = '';\n",
              "          dataTable['output_type'] = 'display_data';\n",
              "          await google.colab.output.renderOutput(dataTable, element);\n",
              "          const docLink = document.createElement('div');\n",
              "          docLink.innerHTML = docLinkHtml;\n",
              "          element.appendChild(docLink);\n",
              "        }\n",
              "      </script>\n",
              "    </div>\n",
              "  </div>\n",
              "  "
            ]
          },
          "metadata": {},
          "execution_count": 69
        }
      ]
    },
    {
      "cell_type": "code",
      "source": [
        "pred_df_GRU['ResumenNew'][0]"
      ],
      "metadata": {
        "colab": {
          "base_uri": "https://localhost:8080/",
          "height": 35
        },
        "id": "YRiQeFgar1mp",
        "outputId": "b57e4a3a-7b3b-4c45-b00b-8e84130a2560"
      },
      "execution_count": null,
      "outputs": [
        {
          "output_type": "execute_result",
          "data": {
            "text/plain": [
              "'más mil mil personas año año personas año según meses <EOS>'"
            ],
            "application/vnd.google.colaboratory.intrinsic+json": {
              "type": "string"
            }
          },
          "metadata": {},
          "execution_count": 72
        }
      ]
    }
  ]
}